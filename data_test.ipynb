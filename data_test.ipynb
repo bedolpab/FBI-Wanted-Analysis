{
 "cells": [
  {
   "cell_type": "code",
   "execution_count": 2,
   "outputs": [],
   "source": [
    "# Imports\n",
    "import requests\n",
    "import pandas as pd\n",
    "import numpy as np\n",
    "import re as re\n",
    "import json\n",
    "from bs4 import BeautifulSoup\n",
    "from fugitiveData import Fugitive"
   ],
   "metadata": {
    "collapsed": false
   }
  },
  {
   "cell_type": "code",
   "execution_count": 3,
   "outputs": [],
   "source": [
    "i = 1\n",
    "hasContent = True\n",
    "empty = []\n",
    "while hasContent:\n",
    "    response = requests.get('https://api.fbi.gov/wanted/v1/list', params={\n",
    "        'page': i\n",
    "    }).json()['items']\n",
    "\n",
    "    if pd.DataFrame(response).empty:\n",
    "        hasContent = False\n",
    "        continue\n",
    "    else:\n",
    "        for item in response:\n",
    "            empty.append(item)\n",
    "        i += 1\n",
    "\n",
    "data = pd.DataFrame(empty)"
   ],
   "metadata": {
    "collapsed": false
   }
  },
  {
   "cell_type": "code",
   "execution_count": 4,
   "outputs": [
    {
     "data": {
      "text/plain": "            place_of_birth coordinates     sex  \\\n0                     None          []    None   \n1        Leningrad, Russia          []    Male   \n2                     None          []    Male   \n3  Albuquerque, New Mexico          []  Female   \n4                     None          []  Female   \n5                 Oklahoma          []    Male   \n6    Centralia, Washington          []  Female   \n\n                                               files person_classification  \\\n0  [{'url': 'https://www.fbi.gov/wanted/seeking-i...                  Main   \n1  [{'url': 'https://www.fbi.gov/wanted/counterin...                  Main   \n2  [{'url': 'https://www.fbi.gov/wanted/vicap/mis...                  Main   \n3  [{'url': 'https://www.fbi.gov/wanted/seeking-i...                  Main   \n4  [{'url': 'https://www.fbi.gov/wanted/kidnap/su...                  Main   \n5  [{'url': 'https://www.fbi.gov/wanted/additiona...                  Main   \n6  [{'url': 'https://www.fbi.gov/wanted/kidnap/ar...                  Main   \n\n           publication possible_countries            occupations   hair  \\\n0  2020-02-27T08:53:00               None                   None   None   \n1  2022-12-01T12:17:00               None  [Electrical Engineer]  black   \n2  2021-09-28T10:00:00               None                   None  brown   \n3  2020-07-14T12:38:00               None                   None  brown   \n4  2021-11-09T07:48:00               None                   None  blond   \n5  2020-04-07T12:27:00               None                   None  brown   \n6  2019-05-06T09:11:00               None                   None  brown   \n\n    eyes  ... reward_min                                         aliases  \\\n0   None  ...          0                                            None   \n1   None  ...          0   [Boris Levitan, Boris Livshitc, David Wetzky]   \n2  brown  ...          0                                            None   \n3   None  ...          0                                       [\"Molly\"]   \n4  green  ...          0                        [Susan Gail Carter Webb]   \n5  brown  ...          0                                            None   \n6   blue  ...          0  [Aganza Maria Ochoa Lopez, Aranza Ochoa Lopez]   \n\n                                              images  \\\n0  [{'caption': None, 'large': 'https://www.fbi.g...   \n1  [{'caption': None, 'large': 'https://www.fbi.g...   \n2  [{'caption': 'Photograph taken at Time of Disa...   \n3  [{'caption': None, 'large': 'https://www.fbi.g...   \n4  [{'caption': None, 'large': 'https://www.fbi.g...   \n5  [{'caption': 'Photograph taken in 2016', 'larg...   \n6  [{'caption': 'Photograph taken in 2018', 'larg...   \n\n                                age_range  complexion weight_min  \\\n0                                    None        None        NaN   \n1                                    None        None        NaN   \n2  6 years old (at time of disappearance)        None       60.0   \n3                                    None        None      140.0   \n4                                    None        None      115.0   \n5                                    None        None      196.0   \n6                                    None        None       40.0   \n\n  possible_states                                        description  \\\n0            None       Philadelphia, Pennsylvania\\r\\nAugust 1, 2019   \n1            None  Conspiracy to Defraud the United States; Consp...   \n2            None          September 28, 1996\\r\\nLynn, Massachusetts   \n3            None  Homicide Victim\\r\\nAlgodones, New Mexico\\r\\nJu...   \n4            None           August 8, 2000\\r\\nBeckley, West Virginia   \n5            None  Escape; Felon in Possession of  Firearm and Am...   \n6            None          October 25, 2018\\r\\nVancouver, Washington   \n\n  locations                                                @id  \n0      None  https://api.fbi.gov/@wanted-person/1b8ccc01f8d...  \n1      None  https://api.fbi.gov/@wanted-person/b953c05b852...  \n2      None  https://api.fbi.gov/@wanted-person/b166d627e11...  \n3      None  https://api.fbi.gov/@wanted-person/142392c0348...  \n4      None  https://api.fbi.gov/@wanted-person/33df244225e...  \n5      None  https://api.fbi.gov/@wanted-person/47f6beaf11c...  \n6      None  https://api.fbi.gov/@wanted-person/06dfa08bfb6...  \n\n[7 rows x 53 columns]",
      "text/html": "<div>\n<style scoped>\n    .dataframe tbody tr th:only-of-type {\n        vertical-align: middle;\n    }\n\n    .dataframe tbody tr th {\n        vertical-align: top;\n    }\n\n    .dataframe thead th {\n        text-align: right;\n    }\n</style>\n<table border=\"1\" class=\"dataframe\">\n  <thead>\n    <tr style=\"text-align: right;\">\n      <th></th>\n      <th>place_of_birth</th>\n      <th>coordinates</th>\n      <th>sex</th>\n      <th>files</th>\n      <th>person_classification</th>\n      <th>publication</th>\n      <th>possible_countries</th>\n      <th>occupations</th>\n      <th>hair</th>\n      <th>eyes</th>\n      <th>...</th>\n      <th>reward_min</th>\n      <th>aliases</th>\n      <th>images</th>\n      <th>age_range</th>\n      <th>complexion</th>\n      <th>weight_min</th>\n      <th>possible_states</th>\n      <th>description</th>\n      <th>locations</th>\n      <th>@id</th>\n    </tr>\n  </thead>\n  <tbody>\n    <tr>\n      <th>0</th>\n      <td>None</td>\n      <td>[]</td>\n      <td>None</td>\n      <td>[{'url': 'https://www.fbi.gov/wanted/seeking-i...</td>\n      <td>Main</td>\n      <td>2020-02-27T08:53:00</td>\n      <td>None</td>\n      <td>None</td>\n      <td>None</td>\n      <td>None</td>\n      <td>...</td>\n      <td>0</td>\n      <td>None</td>\n      <td>[{'caption': None, 'large': 'https://www.fbi.g...</td>\n      <td>None</td>\n      <td>None</td>\n      <td>NaN</td>\n      <td>None</td>\n      <td>Philadelphia, Pennsylvania\\r\\nAugust 1, 2019</td>\n      <td>None</td>\n      <td>https://api.fbi.gov/@wanted-person/1b8ccc01f8d...</td>\n    </tr>\n    <tr>\n      <th>1</th>\n      <td>Leningrad, Russia</td>\n      <td>[]</td>\n      <td>Male</td>\n      <td>[{'url': 'https://www.fbi.gov/wanted/counterin...</td>\n      <td>Main</td>\n      <td>2022-12-01T12:17:00</td>\n      <td>None</td>\n      <td>[Electrical Engineer]</td>\n      <td>black</td>\n      <td>None</td>\n      <td>...</td>\n      <td>0</td>\n      <td>[Boris Levitan, Boris Livshitc, David Wetzky]</td>\n      <td>[{'caption': None, 'large': 'https://www.fbi.g...</td>\n      <td>None</td>\n      <td>None</td>\n      <td>NaN</td>\n      <td>None</td>\n      <td>Conspiracy to Defraud the United States; Consp...</td>\n      <td>None</td>\n      <td>https://api.fbi.gov/@wanted-person/b953c05b852...</td>\n    </tr>\n    <tr>\n      <th>2</th>\n      <td>None</td>\n      <td>[]</td>\n      <td>Male</td>\n      <td>[{'url': 'https://www.fbi.gov/wanted/vicap/mis...</td>\n      <td>Main</td>\n      <td>2021-09-28T10:00:00</td>\n      <td>None</td>\n      <td>None</td>\n      <td>brown</td>\n      <td>brown</td>\n      <td>...</td>\n      <td>0</td>\n      <td>None</td>\n      <td>[{'caption': 'Photograph taken at Time of Disa...</td>\n      <td>6 years old (at time of disappearance)</td>\n      <td>None</td>\n      <td>60.0</td>\n      <td>None</td>\n      <td>September 28, 1996\\r\\nLynn, Massachusetts</td>\n      <td>None</td>\n      <td>https://api.fbi.gov/@wanted-person/b166d627e11...</td>\n    </tr>\n    <tr>\n      <th>3</th>\n      <td>Albuquerque, New Mexico</td>\n      <td>[]</td>\n      <td>Female</td>\n      <td>[{'url': 'https://www.fbi.gov/wanted/seeking-i...</td>\n      <td>Main</td>\n      <td>2020-07-14T12:38:00</td>\n      <td>None</td>\n      <td>None</td>\n      <td>brown</td>\n      <td>None</td>\n      <td>...</td>\n      <td>0</td>\n      <td>[\"Molly\"]</td>\n      <td>[{'caption': None, 'large': 'https://www.fbi.g...</td>\n      <td>None</td>\n      <td>None</td>\n      <td>140.0</td>\n      <td>None</td>\n      <td>Homicide Victim\\r\\nAlgodones, New Mexico\\r\\nJu...</td>\n      <td>None</td>\n      <td>https://api.fbi.gov/@wanted-person/142392c0348...</td>\n    </tr>\n    <tr>\n      <th>4</th>\n      <td>None</td>\n      <td>[]</td>\n      <td>Female</td>\n      <td>[{'url': 'https://www.fbi.gov/wanted/kidnap/su...</td>\n      <td>Main</td>\n      <td>2021-11-09T07:48:00</td>\n      <td>None</td>\n      <td>None</td>\n      <td>blond</td>\n      <td>green</td>\n      <td>...</td>\n      <td>0</td>\n      <td>[Susan Gail Carter Webb]</td>\n      <td>[{'caption': None, 'large': 'https://www.fbi.g...</td>\n      <td>None</td>\n      <td>None</td>\n      <td>115.0</td>\n      <td>None</td>\n      <td>August 8, 2000\\r\\nBeckley, West Virginia</td>\n      <td>None</td>\n      <td>https://api.fbi.gov/@wanted-person/33df244225e...</td>\n    </tr>\n    <tr>\n      <th>5</th>\n      <td>Oklahoma</td>\n      <td>[]</td>\n      <td>Male</td>\n      <td>[{'url': 'https://www.fbi.gov/wanted/additiona...</td>\n      <td>Main</td>\n      <td>2020-04-07T12:27:00</td>\n      <td>None</td>\n      <td>None</td>\n      <td>brown</td>\n      <td>brown</td>\n      <td>...</td>\n      <td>0</td>\n      <td>None</td>\n      <td>[{'caption': 'Photograph taken in 2016', 'larg...</td>\n      <td>None</td>\n      <td>None</td>\n      <td>196.0</td>\n      <td>None</td>\n      <td>Escape; Felon in Possession of  Firearm and Am...</td>\n      <td>None</td>\n      <td>https://api.fbi.gov/@wanted-person/47f6beaf11c...</td>\n    </tr>\n    <tr>\n      <th>6</th>\n      <td>Centralia, Washington</td>\n      <td>[]</td>\n      <td>Female</td>\n      <td>[{'url': 'https://www.fbi.gov/wanted/kidnap/ar...</td>\n      <td>Main</td>\n      <td>2019-05-06T09:11:00</td>\n      <td>None</td>\n      <td>None</td>\n      <td>brown</td>\n      <td>blue</td>\n      <td>...</td>\n      <td>0</td>\n      <td>[Aganza Maria Ochoa Lopez, Aranza Ochoa Lopez]</td>\n      <td>[{'caption': 'Photograph taken in 2018', 'larg...</td>\n      <td>None</td>\n      <td>None</td>\n      <td>40.0</td>\n      <td>None</td>\n      <td>October 25, 2018\\r\\nVancouver, Washington</td>\n      <td>None</td>\n      <td>https://api.fbi.gov/@wanted-person/06dfa08bfb6...</td>\n    </tr>\n  </tbody>\n</table>\n<p>7 rows × 53 columns</p>\n</div>"
     },
     "execution_count": 4,
     "metadata": {},
     "output_type": "execute_result"
    }
   ],
   "source": [
    "data.head(7)# check data"
   ],
   "metadata": {
    "collapsed": false
   }
  },
  {
   "cell_type": "code",
   "execution_count": 5,
   "outputs": [
    {
     "data": {
      "text/plain": "  place_of_birth coordinates   sex  \\\n0           None          []  None   \n\n                                               files person_classification  \\\n0  [{'url': 'https://www.fbi.gov/wanted/seeking-i...                  Main   \n\n           publication possible_countries occupations  hair  eyes  ...  \\\n0  2020-02-27T08:53:00               None        None  None  None  ...   \n\n  reward_min aliases                                             images  \\\n0          0    None  [{'caption': None, 'large': 'https://www.fbi.g...   \n\n  age_range  complexion weight_min possible_states  \\\n0      None        None        NaN            None   \n\n                                    description locations  \\\n0  Philadelphia, Pennsylvania\\r\\nAugust 1, 2019      None   \n\n                                                 @id  \n0  https://api.fbi.gov/@wanted-person/1b8ccc01f8d...  \n\n[1 rows x 53 columns]",
      "text/html": "<div>\n<style scoped>\n    .dataframe tbody tr th:only-of-type {\n        vertical-align: middle;\n    }\n\n    .dataframe tbody tr th {\n        vertical-align: top;\n    }\n\n    .dataframe thead th {\n        text-align: right;\n    }\n</style>\n<table border=\"1\" class=\"dataframe\">\n  <thead>\n    <tr style=\"text-align: right;\">\n      <th></th>\n      <th>place_of_birth</th>\n      <th>coordinates</th>\n      <th>sex</th>\n      <th>files</th>\n      <th>person_classification</th>\n      <th>publication</th>\n      <th>possible_countries</th>\n      <th>occupations</th>\n      <th>hair</th>\n      <th>eyes</th>\n      <th>...</th>\n      <th>reward_min</th>\n      <th>aliases</th>\n      <th>images</th>\n      <th>age_range</th>\n      <th>complexion</th>\n      <th>weight_min</th>\n      <th>possible_states</th>\n      <th>description</th>\n      <th>locations</th>\n      <th>@id</th>\n    </tr>\n  </thead>\n  <tbody>\n    <tr>\n      <th>0</th>\n      <td>None</td>\n      <td>[]</td>\n      <td>None</td>\n      <td>[{'url': 'https://www.fbi.gov/wanted/seeking-i...</td>\n      <td>Main</td>\n      <td>2020-02-27T08:53:00</td>\n      <td>None</td>\n      <td>None</td>\n      <td>None</td>\n      <td>None</td>\n      <td>...</td>\n      <td>0</td>\n      <td>None</td>\n      <td>[{'caption': None, 'large': 'https://www.fbi.g...</td>\n      <td>None</td>\n      <td>None</td>\n      <td>NaN</td>\n      <td>None</td>\n      <td>Philadelphia, Pennsylvania\\r\\nAugust 1, 2019</td>\n      <td>None</td>\n      <td>https://api.fbi.gov/@wanted-person/1b8ccc01f8d...</td>\n    </tr>\n  </tbody>\n</table>\n<p>1 rows × 53 columns</p>\n</div>"
     },
     "execution_count": 5,
     "metadata": {},
     "output_type": "execute_result"
    }
   ],
   "source": [
    "# Playtest with first row\n",
    "data.head(1)"
   ],
   "metadata": {
    "collapsed": false
   }
  },
  {
   "cell_type": "code",
   "execution_count": 13,
   "outputs": [
    {
     "data": {
      "text/plain": "0                    ATTEMPTED ARMORED CAR ROBBERY\n1                       BORIS YAKOVLEVICH LIVSHITS\n2           JESUS DE LA CRUZ - LYNN, MASSACHUSETTS\n3                        MARY ALETA \"MOLLY\" SPARKS\n4                                SUSAN GAIL CARTER\n                          ...                     \n969                           BEHZAD MOHAMMADZADEH\n970                         AMINA AND BELEL KANDIL\n971                          ROBERT WILLIAM FISHER\n972    DAWN MARIE MOZINO - BRYN MAWR, PENNSYLVANIA\n973                 JANE DOE - LINN COUNTY, OREGON\nName: title, Length: 974, dtype: object"
     },
     "execution_count": 13,
     "metadata": {},
     "output_type": "execute_result"
    }
   ],
   "source": [
    "data.iloc[:, :].title"
   ],
   "metadata": {
    "collapsed": false
   }
  },
  {
   "cell_type": "code",
   "execution_count": 76,
   "outputs": [],
   "source": [
    "data.iloc[0,:].sex"
   ],
   "metadata": {
    "collapsed": false
   }
  },
  {
   "cell_type": "code",
   "execution_count": 77,
   "outputs": [
    {
     "ename": "TypeError",
     "evalue": "'NoneType' object is not subscriptable",
     "output_type": "error",
     "traceback": [
      "\u001B[0;31m---------------------------------------------------------------------------\u001B[0m",
      "\u001B[0;31mTypeError\u001B[0m                                 Traceback (most recent call last)",
      "Cell \u001B[0;32mIn[77], line 1\u001B[0m\n\u001B[0;32m----> 1\u001B[0m fugitive \u001B[38;5;241m=\u001B[39m \u001B[43mFugitive\u001B[49m\u001B[43m(\u001B[49m\u001B[43mdata\u001B[49m\u001B[38;5;241;43m.\u001B[39;49m\u001B[43miloc\u001B[49m\u001B[43m[\u001B[49m\u001B[38;5;241;43m0\u001B[39;49m\u001B[43m,\u001B[49m\u001B[43m \u001B[49m\u001B[43m:\u001B[49m\u001B[43m]\u001B[49m\u001B[43m)\u001B[49m\n",
      "File \u001B[0;32m~/csproj/FBIAPI/fugitiveData.py:31\u001B[0m, in \u001B[0;36mFugitive.__init__\u001B[0;34m(self, df)\u001B[0m\n\u001B[1;32m     29\u001B[0m \u001B[38;5;28;01mdef\u001B[39;00m \u001B[38;5;21m__init__\u001B[39m(\u001B[38;5;28mself\u001B[39m, df):\n\u001B[1;32m     30\u001B[0m     \u001B[38;5;28mself\u001B[39m\u001B[38;5;241m.\u001B[39mdf \u001B[38;5;241m=\u001B[39m df\n\u001B[0;32m---> 31\u001B[0m     \u001B[38;5;28mself\u001B[39m\u001B[38;5;241m.\u001B[39mdetails \u001B[38;5;241m=\u001B[39m \u001B[38;5;28;43mself\u001B[39;49m\u001B[38;5;241;43m.\u001B[39;49m\u001B[43mget_details\u001B[49m\u001B[43m(\u001B[49m\u001B[43m)\u001B[49m\n\u001B[1;32m     32\u001B[0m     \u001B[38;5;28mself\u001B[39m\u001B[38;5;241m.\u001B[39mremarks \u001B[38;5;241m=\u001B[39m \u001B[38;5;28mself\u001B[39m\u001B[38;5;241m.\u001B[39mget_remarks()\n\u001B[1;32m     33\u001B[0m     \u001B[38;5;28mself\u001B[39m\u001B[38;5;241m.\u001B[39mncic \u001B[38;5;241m=\u001B[39m \u001B[38;5;28mself\u001B[39m\u001B[38;5;241m.\u001B[39mdf\u001B[38;5;241m.\u001B[39mncic\n",
      "File \u001B[0;32m~/csproj/FBIAPI/fugitiveData.py:86\u001B[0m, in \u001B[0;36mFugitive.get_details\u001B[0;34m(self)\u001B[0m\n\u001B[1;32m     85\u001B[0m \u001B[38;5;28;01mdef\u001B[39;00m \u001B[38;5;21mget_details\u001B[39m(\u001B[38;5;28mself\u001B[39m):\n\u001B[0;32m---> 86\u001B[0m     \u001B[38;5;28;01mif\u001B[39;00m \u001B[38;5;28;43mself\u001B[39;49m\u001B[38;5;241;43m.\u001B[39;49m\u001B[43mdf\u001B[49m\u001B[38;5;241;43m.\u001B[39;49m\u001B[43mremarks\u001B[49m\u001B[43m[\u001B[49m\u001B[38;5;241;43m0\u001B[39;49m\u001B[43m]\u001B[49m \u001B[38;5;129;01mis\u001B[39;00m \u001B[38;5;28;01mNone\u001B[39;00m:\n\u001B[1;32m     87\u001B[0m         \u001B[38;5;28;01mreturn\u001B[39;00m \u001B[38;5;28;01mNone\u001B[39;00m\n\u001B[1;32m     88\u001B[0m     \u001B[38;5;28;01melse\u001B[39;00m:\n",
      "\u001B[0;31mTypeError\u001B[0m: 'NoneType' object is not subscriptable"
     ]
    }
   ],
   "source": [
    "fugitive = Fugitive(data.iloc[0, :])"
   ],
   "metadata": {
    "collapsed": false
   }
  },
  {
   "cell_type": "code",
   "execution_count": 74,
   "outputs": [
    {
     "data": {
      "text/plain": "legat_names                                                            None\neyes                                                                   None\naliases                                                                None\nstatus                                                                   na\nheight_min                                                              NaN\nmodified                                          2023-01-19T15:59:43+00:00\nwarning_message                                                        None\nrace_raw                                                               None\ntitle                                                     COMPASSCARE ARSON\npossible_countries                                                     None\nfield_offices                                                     [buffalo]\nbuild                                                                  None\ncoordinates                                                              []\nweight                                                                 None\nage_min                                                                 NaN\ndetails                   <p>The FBI is asking for the public’s assistan...\nremarks                                                                None\neyes_raw                                                               None\nhair_raw                                                               None\ncomplexion                                                             None\npath                                 /wanted/seeking-info/compasscare-arson\nrace                                                                   None\npossible_states                                                        None\ncaution                                                                None\nweight_min                                                              NaN\nurl                       https://www.fbi.gov/wanted/seeking-info/compas...\nreward_max                                                                0\nlocations                                                              None\nfiles                     [{'url': 'https://www.fbi.gov/wanted/seeking-i...\ndescription               Unknown Suspects\\r\\nAmherst, New York\\r\\nJune ...\nreward_min                                                                0\npublication                                             2022-10-28T07:11:00\noccupations                                                            None\nperson_classification                                                  Main\nnationality                                                            None\nscars_and_marks                                                        None\nage_max                                                                 NaN\nuid                                        fd76bba246d442e2906a8d4c6417fd25\nreward_text               The FBI is offering a reward of up to $25,000 ...\nsex                                                                    None\nimages                    [{'caption': 'Suspect 1', 'large': 'https://ww...\nadditional_information                                                 None\nncic                                                                   None\nlanguages                                                              None\nweight_max                                                              NaN\nage_range                                                              None\nsubjects                                              [Seeking Information]\nplace_of_birth                                                         None\nheight_max                                                              NaN\ndates_of_birth_used                                                    None\nhair                                                                   None\nsuspects                                                               None\n@id                       https://api.fbi.gov/@wanted-person/fd76bba246d...\nName: 0, dtype: object"
     },
     "execution_count": 74,
     "metadata": {},
     "output_type": "execute_result"
    }
   ],
   "source": [
    "fugitive"
   ],
   "metadata": {
    "collapsed": false
   }
  },
  {
   "cell_type": "code",
   "execution_count": 78,
   "outputs": [
    {
     "data": {
      "text/plain": "971"
     },
     "execution_count": 78,
     "metadata": {},
     "output_type": "execute_result"
    }
   ],
   "source": [
    "data.shape[0]"
   ],
   "metadata": {
    "collapsed": false
   }
  },
  {
   "cell_type": "code",
   "execution_count": null,
   "outputs": [],
   "source": [],
   "metadata": {
    "collapsed": false
   }
  }
 ],
 "metadata": {
  "kernelspec": {
   "display_name": "Python 3",
   "language": "python",
   "name": "python3"
  },
  "language_info": {
   "codemirror_mode": {
    "name": "ipython",
    "version": 2
   },
   "file_extension": ".py",
   "mimetype": "text/x-python",
   "name": "python",
   "nbconvert_exporter": "python",
   "pygments_lexer": "ipython2",
   "version": "2.7.6"
  }
 },
 "nbformat": 4,
 "nbformat_minor": 0
}
