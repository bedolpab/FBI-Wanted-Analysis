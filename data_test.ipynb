{
 "cells": [
  {
   "cell_type": "code",
   "execution_count": 66,
   "outputs": [],
   "source": [
    "# Imports\n",
    "import requests\n",
    "import pandas as pd\n",
    "import numpy as np\n",
    "import re as re\n",
    "import json\n",
    "from bs4 import BeautifulSoup\n",
    "from fugitiveData import Fugitive"
   ],
   "metadata": {
    "collapsed": false
   }
  },
  {
   "cell_type": "code",
   "execution_count": 67,
   "outputs": [],
   "source": [
    "i = 1\n",
    "hasContent = True\n",
    "empty = []\n",
    "while hasContent:\n",
    "    response = requests.get('https://api.fbi.gov/wanted/v1/list', params={\n",
    "        'page': i\n",
    "    }).json()['items']\n",
    "\n",
    "    if pd.DataFrame(response).empty:\n",
    "        hasContent = False\n",
    "        continue\n",
    "    else:\n",
    "        for item in response:\n",
    "            empty.append(item)\n",
    "        i += 1\n",
    "\n",
    "data = pd.DataFrame(empty)"
   ],
   "metadata": {
    "collapsed": false
   }
  },
  {
   "cell_type": "code",
   "execution_count": 80,
   "outputs": [
    {
     "data": {
      "text/plain": "  legat_names   eyes                                            aliases  \\\n0        None   None                                               None   \n1        None   None                                               None   \n2        None   None                                               None   \n3        None   None                                               None   \n4        None   None                                               None   \n5        None  brown  [Khalid Satary, Khalid A. Satary, Khalio A. Sa...   \n6        None  brown                      [Marco A. Garay, Marco Garay]   \n\n  status  height_min                   modified warning_message  \\\n0     na         NaN  2023-01-19T15:59:43+00:00            None   \n1     na         NaN  2023-01-19T14:37:01+00:00            None   \n2     na         NaN  2023-01-19T14:35:58+00:00            None   \n3     na         NaN  2023-01-19T14:34:55+00:00            None   \n4     na         NaN  2023-01-19T14:33:43+00:00            None   \n5     na        67.0  2023-01-19T12:57:58+00:00            None   \n6     na        72.0  2023-01-19T12:57:29+00:00            None   \n\n           race_raw                                              title  \\\n0              None                                  COMPASSCARE ARSON   \n1              None                   VANDALISM - NASHVILLE, TENNESSEE   \n2              None  UNKNOWN SUSPECTS - POSSESSION OF A DESTRUCTIVE...   \n3              None                      CRISIS PREGNANCY CENTER ARSON   \n4              None                   LIFE CHOICES ARSON AND VANDALISM   \n5              None                                KHALID AHMED SATARY   \n6  White (Hispanic)                                MARCO ANTONIO GARAY   \n\n  possible_countries  ... languages weight_max age_range  \\\n0               None  ...      None        NaN      None   \n1               None  ...      None        NaN      None   \n2               None  ...      None        NaN      None   \n3               None  ...      None        NaN      None   \n4               None  ...      None        NaN      None   \n5               None  ...      None      150.0      None   \n6               None  ...      None      200.0      None   \n\n                                      subjects           place_of_birth  \\\n0                        [Seeking Information]                     None   \n1                        [Seeking Information]                     None   \n2                        [Seeking Information]                     None   \n3                        [Seeking Information]                     None   \n4                        [Seeking Information]                     None   \n5                         [White-Collar Crime]                     None   \n6  [Violent Crime - Murders, Case of the Week]  Los Angeles, California   \n\n  height_max                                dates_of_birth_used   hair  \\\n0        NaN                                               None   None   \n1        NaN                                               None   None   \n2        NaN                                               None   None   \n3        NaN                                               None   None   \n4        NaN                                               None   None   \n5       67.0  [May 27, 1972, March 28, 1972, November 27, 1972]  black   \n6       72.0                                     [May 26, 1988]  black   \n\n  suspects                                                @id  \n0     None  https://api.fbi.gov/@wanted-person/fd76bba246d...  \n1     None  https://api.fbi.gov/@wanted-person/6eba4be8a5b...  \n2     None  https://api.fbi.gov/@wanted-person/95f1477ec1d...  \n3     None  https://api.fbi.gov/@wanted-person/0e6a6c2a1b9...  \n4     None  https://api.fbi.gov/@wanted-person/1501448d52d...  \n5     None  https://api.fbi.gov/@wanted-person/9845f0c6253...  \n6     None  https://api.fbi.gov/@wanted-person/4f300a2b46f...  \n\n[7 rows x 53 columns]",
      "text/html": "<div>\n<style scoped>\n    .dataframe tbody tr th:only-of-type {\n        vertical-align: middle;\n    }\n\n    .dataframe tbody tr th {\n        vertical-align: top;\n    }\n\n    .dataframe thead th {\n        text-align: right;\n    }\n</style>\n<table border=\"1\" class=\"dataframe\">\n  <thead>\n    <tr style=\"text-align: right;\">\n      <th></th>\n      <th>legat_names</th>\n      <th>eyes</th>\n      <th>aliases</th>\n      <th>status</th>\n      <th>height_min</th>\n      <th>modified</th>\n      <th>warning_message</th>\n      <th>race_raw</th>\n      <th>title</th>\n      <th>possible_countries</th>\n      <th>...</th>\n      <th>languages</th>\n      <th>weight_max</th>\n      <th>age_range</th>\n      <th>subjects</th>\n      <th>place_of_birth</th>\n      <th>height_max</th>\n      <th>dates_of_birth_used</th>\n      <th>hair</th>\n      <th>suspects</th>\n      <th>@id</th>\n    </tr>\n  </thead>\n  <tbody>\n    <tr>\n      <th>0</th>\n      <td>None</td>\n      <td>None</td>\n      <td>None</td>\n      <td>na</td>\n      <td>NaN</td>\n      <td>2023-01-19T15:59:43+00:00</td>\n      <td>None</td>\n      <td>None</td>\n      <td>COMPASSCARE ARSON</td>\n      <td>None</td>\n      <td>...</td>\n      <td>None</td>\n      <td>NaN</td>\n      <td>None</td>\n      <td>[Seeking Information]</td>\n      <td>None</td>\n      <td>NaN</td>\n      <td>None</td>\n      <td>None</td>\n      <td>None</td>\n      <td>https://api.fbi.gov/@wanted-person/fd76bba246d...</td>\n    </tr>\n    <tr>\n      <th>1</th>\n      <td>None</td>\n      <td>None</td>\n      <td>None</td>\n      <td>na</td>\n      <td>NaN</td>\n      <td>2023-01-19T14:37:01+00:00</td>\n      <td>None</td>\n      <td>None</td>\n      <td>VANDALISM - NASHVILLE, TENNESSEE</td>\n      <td>None</td>\n      <td>...</td>\n      <td>None</td>\n      <td>NaN</td>\n      <td>None</td>\n      <td>[Seeking Information]</td>\n      <td>None</td>\n      <td>NaN</td>\n      <td>None</td>\n      <td>None</td>\n      <td>None</td>\n      <td>https://api.fbi.gov/@wanted-person/6eba4be8a5b...</td>\n    </tr>\n    <tr>\n      <th>2</th>\n      <td>None</td>\n      <td>None</td>\n      <td>None</td>\n      <td>na</td>\n      <td>NaN</td>\n      <td>2023-01-19T14:35:58+00:00</td>\n      <td>None</td>\n      <td>None</td>\n      <td>UNKNOWN SUSPECTS - POSSESSION OF A DESTRUCTIVE...</td>\n      <td>None</td>\n      <td>...</td>\n      <td>None</td>\n      <td>NaN</td>\n      <td>None</td>\n      <td>[Seeking Information]</td>\n      <td>None</td>\n      <td>NaN</td>\n      <td>None</td>\n      <td>None</td>\n      <td>None</td>\n      <td>https://api.fbi.gov/@wanted-person/95f1477ec1d...</td>\n    </tr>\n    <tr>\n      <th>3</th>\n      <td>None</td>\n      <td>None</td>\n      <td>None</td>\n      <td>na</td>\n      <td>NaN</td>\n      <td>2023-01-19T14:34:55+00:00</td>\n      <td>None</td>\n      <td>None</td>\n      <td>CRISIS PREGNANCY CENTER ARSON</td>\n      <td>None</td>\n      <td>...</td>\n      <td>None</td>\n      <td>NaN</td>\n      <td>None</td>\n      <td>[Seeking Information]</td>\n      <td>None</td>\n      <td>NaN</td>\n      <td>None</td>\n      <td>None</td>\n      <td>None</td>\n      <td>https://api.fbi.gov/@wanted-person/0e6a6c2a1b9...</td>\n    </tr>\n    <tr>\n      <th>4</th>\n      <td>None</td>\n      <td>None</td>\n      <td>None</td>\n      <td>na</td>\n      <td>NaN</td>\n      <td>2023-01-19T14:33:43+00:00</td>\n      <td>None</td>\n      <td>None</td>\n      <td>LIFE CHOICES ARSON AND VANDALISM</td>\n      <td>None</td>\n      <td>...</td>\n      <td>None</td>\n      <td>NaN</td>\n      <td>None</td>\n      <td>[Seeking Information]</td>\n      <td>None</td>\n      <td>NaN</td>\n      <td>None</td>\n      <td>None</td>\n      <td>None</td>\n      <td>https://api.fbi.gov/@wanted-person/1501448d52d...</td>\n    </tr>\n    <tr>\n      <th>5</th>\n      <td>None</td>\n      <td>brown</td>\n      <td>[Khalid Satary, Khalid A. Satary, Khalio A. Sa...</td>\n      <td>na</td>\n      <td>67.0</td>\n      <td>2023-01-19T12:57:58+00:00</td>\n      <td>None</td>\n      <td>None</td>\n      <td>KHALID AHMED SATARY</td>\n      <td>None</td>\n      <td>...</td>\n      <td>None</td>\n      <td>150.0</td>\n      <td>None</td>\n      <td>[White-Collar Crime]</td>\n      <td>None</td>\n      <td>67.0</td>\n      <td>[May 27, 1972, March 28, 1972, November 27, 1972]</td>\n      <td>black</td>\n      <td>None</td>\n      <td>https://api.fbi.gov/@wanted-person/9845f0c6253...</td>\n    </tr>\n    <tr>\n      <th>6</th>\n      <td>None</td>\n      <td>brown</td>\n      <td>[Marco A. Garay, Marco Garay]</td>\n      <td>na</td>\n      <td>72.0</td>\n      <td>2023-01-19T12:57:29+00:00</td>\n      <td>None</td>\n      <td>White (Hispanic)</td>\n      <td>MARCO ANTONIO GARAY</td>\n      <td>None</td>\n      <td>...</td>\n      <td>None</td>\n      <td>200.0</td>\n      <td>None</td>\n      <td>[Violent Crime - Murders, Case of the Week]</td>\n      <td>Los Angeles, California</td>\n      <td>72.0</td>\n      <td>[May 26, 1988]</td>\n      <td>black</td>\n      <td>None</td>\n      <td>https://api.fbi.gov/@wanted-person/4f300a2b46f...</td>\n    </tr>\n  </tbody>\n</table>\n<p>7 rows × 53 columns</p>\n</div>"
     },
     "execution_count": 80,
     "metadata": {},
     "output_type": "execute_result"
    }
   ],
   "source": [
    "data.head(7)# check data"
   ],
   "metadata": {
    "collapsed": false
   }
  },
  {
   "cell_type": "code",
   "execution_count": 75,
   "outputs": [
    {
     "data": {
      "text/plain": "  legat_names  eyes aliases status  height_min                   modified  \\\n0        None  None    None     na         NaN  2023-01-19T15:59:43+00:00   \n\n  warning_message race_raw              title possible_countries  ...  \\\n0            None     None  COMPASSCARE ARSON               None  ...   \n\n  languages weight_max age_range               subjects  place_of_birth  \\\n0      None        NaN      None  [Seeking Information]            None   \n\n  height_max dates_of_birth_used  hair suspects  \\\n0        NaN                None  None     None   \n\n                                                 @id  \n0  https://api.fbi.gov/@wanted-person/fd76bba246d...  \n\n[1 rows x 53 columns]",
      "text/html": "<div>\n<style scoped>\n    .dataframe tbody tr th:only-of-type {\n        vertical-align: middle;\n    }\n\n    .dataframe tbody tr th {\n        vertical-align: top;\n    }\n\n    .dataframe thead th {\n        text-align: right;\n    }\n</style>\n<table border=\"1\" class=\"dataframe\">\n  <thead>\n    <tr style=\"text-align: right;\">\n      <th></th>\n      <th>legat_names</th>\n      <th>eyes</th>\n      <th>aliases</th>\n      <th>status</th>\n      <th>height_min</th>\n      <th>modified</th>\n      <th>warning_message</th>\n      <th>race_raw</th>\n      <th>title</th>\n      <th>possible_countries</th>\n      <th>...</th>\n      <th>languages</th>\n      <th>weight_max</th>\n      <th>age_range</th>\n      <th>subjects</th>\n      <th>place_of_birth</th>\n      <th>height_max</th>\n      <th>dates_of_birth_used</th>\n      <th>hair</th>\n      <th>suspects</th>\n      <th>@id</th>\n    </tr>\n  </thead>\n  <tbody>\n    <tr>\n      <th>0</th>\n      <td>None</td>\n      <td>None</td>\n      <td>None</td>\n      <td>na</td>\n      <td>NaN</td>\n      <td>2023-01-19T15:59:43+00:00</td>\n      <td>None</td>\n      <td>None</td>\n      <td>COMPASSCARE ARSON</td>\n      <td>None</td>\n      <td>...</td>\n      <td>None</td>\n      <td>NaN</td>\n      <td>None</td>\n      <td>[Seeking Information]</td>\n      <td>None</td>\n      <td>NaN</td>\n      <td>None</td>\n      <td>None</td>\n      <td>None</td>\n      <td>https://api.fbi.gov/@wanted-person/fd76bba246d...</td>\n    </tr>\n  </tbody>\n</table>\n<p>1 rows × 53 columns</p>\n</div>"
     },
     "execution_count": 75,
     "metadata": {},
     "output_type": "execute_result"
    }
   ],
   "source": [
    "# Playtest with first row\n",
    "data.head(1)"
   ],
   "metadata": {
    "collapsed": false
   }
  },
  {
   "cell_type": "code",
   "execution_count": 70,
   "outputs": [
    {
     "ename": "TypeError",
     "evalue": "'NoneType' object is not subscriptable",
     "output_type": "error",
     "traceback": [
      "\u001B[0;31m---------------------------------------------------------------------------\u001B[0m",
      "\u001B[0;31mTypeError\u001B[0m                                 Traceback (most recent call last)",
      "Cell \u001B[0;32mIn[70], line 1\u001B[0m\n\u001B[0;32m----> 1\u001B[0m fugitive \u001B[38;5;241m=\u001B[39m \u001B[43mFugitive\u001B[49m\u001B[43m(\u001B[49m\u001B[43mdata\u001B[49m\u001B[38;5;241;43m.\u001B[39;49m\u001B[43miloc\u001B[49m\u001B[43m[\u001B[49m\u001B[38;5;241;43m0\u001B[39;49m\u001B[43m,\u001B[49m\u001B[43m \u001B[49m\u001B[43m:\u001B[49m\u001B[43m]\u001B[49m\u001B[43m)\u001B[49m\n",
      "File \u001B[0;32m~/csproj/FBIAPI/fugitiveData.py:31\u001B[0m, in \u001B[0;36mFugitive.__init__\u001B[0;34m(self, df)\u001B[0m\n\u001B[1;32m     29\u001B[0m \u001B[38;5;28;01mdef\u001B[39;00m \u001B[38;5;21m__init__\u001B[39m(\u001B[38;5;28mself\u001B[39m, df):\n\u001B[1;32m     30\u001B[0m     \u001B[38;5;28mself\u001B[39m\u001B[38;5;241m.\u001B[39mdf \u001B[38;5;241m=\u001B[39m df\n\u001B[0;32m---> 31\u001B[0m     \u001B[38;5;28mself\u001B[39m\u001B[38;5;241m.\u001B[39mdetails \u001B[38;5;241m=\u001B[39m \u001B[38;5;28;43mself\u001B[39;49m\u001B[38;5;241;43m.\u001B[39;49m\u001B[43mget_details\u001B[49m\u001B[43m(\u001B[49m\u001B[43m)\u001B[49m\n\u001B[1;32m     32\u001B[0m     \u001B[38;5;28mself\u001B[39m\u001B[38;5;241m.\u001B[39mremarks \u001B[38;5;241m=\u001B[39m \u001B[38;5;28mself\u001B[39m\u001B[38;5;241m.\u001B[39mget_remarks()\n\u001B[1;32m     33\u001B[0m     \u001B[38;5;28mself\u001B[39m\u001B[38;5;241m.\u001B[39mncic \u001B[38;5;241m=\u001B[39m \u001B[38;5;28mself\u001B[39m\u001B[38;5;241m.\u001B[39mdf\u001B[38;5;241m.\u001B[39mncic\n",
      "File \u001B[0;32m~/csproj/FBIAPI/fugitiveData.py:86\u001B[0m, in \u001B[0;36mFugitive.get_details\u001B[0;34m(self)\u001B[0m\n\u001B[1;32m     85\u001B[0m \u001B[38;5;28;01mdef\u001B[39;00m \u001B[38;5;21mget_details\u001B[39m(\u001B[38;5;28mself\u001B[39m):\n\u001B[0;32m---> 86\u001B[0m     \u001B[38;5;28;01mif\u001B[39;00m \u001B[38;5;28;43mself\u001B[39;49m\u001B[38;5;241;43m.\u001B[39;49m\u001B[43mdf\u001B[49m\u001B[38;5;241;43m.\u001B[39;49m\u001B[43mremarks\u001B[49m\u001B[43m[\u001B[49m\u001B[38;5;241;43m0\u001B[39;49m\u001B[43m]\u001B[49m \u001B[38;5;129;01mis\u001B[39;00m \u001B[38;5;28;01mNone\u001B[39;00m:\n\u001B[1;32m     87\u001B[0m         \u001B[38;5;28;01mreturn\u001B[39;00m \u001B[38;5;28;01mNone\u001B[39;00m\n\u001B[1;32m     88\u001B[0m     \u001B[38;5;28;01melse\u001B[39;00m:\n",
      "\u001B[0;31mTypeError\u001B[0m: 'NoneType' object is not subscriptable"
     ]
    }
   ],
   "source": [],
   "metadata": {
    "collapsed": false
   }
  },
  {
   "cell_type": "code",
   "execution_count": 76,
   "outputs": [],
   "source": [
    "data.iloc[0,:].sex"
   ],
   "metadata": {
    "collapsed": false
   }
  },
  {
   "cell_type": "code",
   "execution_count": 77,
   "outputs": [
    {
     "ename": "TypeError",
     "evalue": "'NoneType' object is not subscriptable",
     "output_type": "error",
     "traceback": [
      "\u001B[0;31m---------------------------------------------------------------------------\u001B[0m",
      "\u001B[0;31mTypeError\u001B[0m                                 Traceback (most recent call last)",
      "Cell \u001B[0;32mIn[77], line 1\u001B[0m\n\u001B[0;32m----> 1\u001B[0m fugitive \u001B[38;5;241m=\u001B[39m \u001B[43mFugitive\u001B[49m\u001B[43m(\u001B[49m\u001B[43mdata\u001B[49m\u001B[38;5;241;43m.\u001B[39;49m\u001B[43miloc\u001B[49m\u001B[43m[\u001B[49m\u001B[38;5;241;43m0\u001B[39;49m\u001B[43m,\u001B[49m\u001B[43m \u001B[49m\u001B[43m:\u001B[49m\u001B[43m]\u001B[49m\u001B[43m)\u001B[49m\n",
      "File \u001B[0;32m~/csproj/FBIAPI/fugitiveData.py:31\u001B[0m, in \u001B[0;36mFugitive.__init__\u001B[0;34m(self, df)\u001B[0m\n\u001B[1;32m     29\u001B[0m \u001B[38;5;28;01mdef\u001B[39;00m \u001B[38;5;21m__init__\u001B[39m(\u001B[38;5;28mself\u001B[39m, df):\n\u001B[1;32m     30\u001B[0m     \u001B[38;5;28mself\u001B[39m\u001B[38;5;241m.\u001B[39mdf \u001B[38;5;241m=\u001B[39m df\n\u001B[0;32m---> 31\u001B[0m     \u001B[38;5;28mself\u001B[39m\u001B[38;5;241m.\u001B[39mdetails \u001B[38;5;241m=\u001B[39m \u001B[38;5;28;43mself\u001B[39;49m\u001B[38;5;241;43m.\u001B[39;49m\u001B[43mget_details\u001B[49m\u001B[43m(\u001B[49m\u001B[43m)\u001B[49m\n\u001B[1;32m     32\u001B[0m     \u001B[38;5;28mself\u001B[39m\u001B[38;5;241m.\u001B[39mremarks \u001B[38;5;241m=\u001B[39m \u001B[38;5;28mself\u001B[39m\u001B[38;5;241m.\u001B[39mget_remarks()\n\u001B[1;32m     33\u001B[0m     \u001B[38;5;28mself\u001B[39m\u001B[38;5;241m.\u001B[39mncic \u001B[38;5;241m=\u001B[39m \u001B[38;5;28mself\u001B[39m\u001B[38;5;241m.\u001B[39mdf\u001B[38;5;241m.\u001B[39mncic\n",
      "File \u001B[0;32m~/csproj/FBIAPI/fugitiveData.py:86\u001B[0m, in \u001B[0;36mFugitive.get_details\u001B[0;34m(self)\u001B[0m\n\u001B[1;32m     85\u001B[0m \u001B[38;5;28;01mdef\u001B[39;00m \u001B[38;5;21mget_details\u001B[39m(\u001B[38;5;28mself\u001B[39m):\n\u001B[0;32m---> 86\u001B[0m     \u001B[38;5;28;01mif\u001B[39;00m \u001B[38;5;28;43mself\u001B[39;49m\u001B[38;5;241;43m.\u001B[39;49m\u001B[43mdf\u001B[49m\u001B[38;5;241;43m.\u001B[39;49m\u001B[43mremarks\u001B[49m\u001B[43m[\u001B[49m\u001B[38;5;241;43m0\u001B[39;49m\u001B[43m]\u001B[49m \u001B[38;5;129;01mis\u001B[39;00m \u001B[38;5;28;01mNone\u001B[39;00m:\n\u001B[1;32m     87\u001B[0m         \u001B[38;5;28;01mreturn\u001B[39;00m \u001B[38;5;28;01mNone\u001B[39;00m\n\u001B[1;32m     88\u001B[0m     \u001B[38;5;28;01melse\u001B[39;00m:\n",
      "\u001B[0;31mTypeError\u001B[0m: 'NoneType' object is not subscriptable"
     ]
    }
   ],
   "source": [
    "fugitive = Fugitive(data.iloc[0, :])"
   ],
   "metadata": {
    "collapsed": false
   }
  },
  {
   "cell_type": "code",
   "execution_count": 74,
   "outputs": [
    {
     "data": {
      "text/plain": "legat_names                                                            None\neyes                                                                   None\naliases                                                                None\nstatus                                                                   na\nheight_min                                                              NaN\nmodified                                          2023-01-19T15:59:43+00:00\nwarning_message                                                        None\nrace_raw                                                               None\ntitle                                                     COMPASSCARE ARSON\npossible_countries                                                     None\nfield_offices                                                     [buffalo]\nbuild                                                                  None\ncoordinates                                                              []\nweight                                                                 None\nage_min                                                                 NaN\ndetails                   <p>The FBI is asking for the public’s assistan...\nremarks                                                                None\neyes_raw                                                               None\nhair_raw                                                               None\ncomplexion                                                             None\npath                                 /wanted/seeking-info/compasscare-arson\nrace                                                                   None\npossible_states                                                        None\ncaution                                                                None\nweight_min                                                              NaN\nurl                       https://www.fbi.gov/wanted/seeking-info/compas...\nreward_max                                                                0\nlocations                                                              None\nfiles                     [{'url': 'https://www.fbi.gov/wanted/seeking-i...\ndescription               Unknown Suspects\\r\\nAmherst, New York\\r\\nJune ...\nreward_min                                                                0\npublication                                             2022-10-28T07:11:00\noccupations                                                            None\nperson_classification                                                  Main\nnationality                                                            None\nscars_and_marks                                                        None\nage_max                                                                 NaN\nuid                                        fd76bba246d442e2906a8d4c6417fd25\nreward_text               The FBI is offering a reward of up to $25,000 ...\nsex                                                                    None\nimages                    [{'caption': 'Suspect 1', 'large': 'https://ww...\nadditional_information                                                 None\nncic                                                                   None\nlanguages                                                              None\nweight_max                                                              NaN\nage_range                                                              None\nsubjects                                              [Seeking Information]\nplace_of_birth                                                         None\nheight_max                                                              NaN\ndates_of_birth_used                                                    None\nhair                                                                   None\nsuspects                                                               None\n@id                       https://api.fbi.gov/@wanted-person/fd76bba246d...\nName: 0, dtype: object"
     },
     "execution_count": 74,
     "metadata": {},
     "output_type": "execute_result"
    }
   ],
   "source": [
    "fugitive"
   ],
   "metadata": {
    "collapsed": false
   }
  },
  {
   "cell_type": "code",
   "execution_count": 78,
   "outputs": [
    {
     "data": {
      "text/plain": "971"
     },
     "execution_count": 78,
     "metadata": {},
     "output_type": "execute_result"
    }
   ],
   "source": [
    "data.shape[0]"
   ],
   "metadata": {
    "collapsed": false
   }
  },
  {
   "cell_type": "code",
   "execution_count": null,
   "outputs": [],
   "source": [],
   "metadata": {
    "collapsed": false
   }
  }
 ],
 "metadata": {
  "kernelspec": {
   "display_name": "Python 3",
   "language": "python",
   "name": "python3"
  },
  "language_info": {
   "codemirror_mode": {
    "name": "ipython",
    "version": 2
   },
   "file_extension": ".py",
   "mimetype": "text/x-python",
   "name": "python",
   "nbconvert_exporter": "python",
   "pygments_lexer": "ipython2",
   "version": "2.7.6"
  }
 },
 "nbformat": 4,
 "nbformat_minor": 0
}
