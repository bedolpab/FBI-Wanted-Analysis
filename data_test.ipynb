{
 "cells": [
  {
   "cell_type": "code",
   "execution_count": 1,
   "metadata": {
    "collapsed": true
   },
   "outputs": [],
   "source": [
    "import requests\n",
    "import numpy as np\n",
    "import pandas as pd\n",
    "import bs4 as BeautifulSoup\n",
    "import re"
   ]
  },
  {
   "cell_type": "code",
   "execution_count": 73,
   "outputs": [],
   "source": [
    "response = requests.get('https://api.fbi.gov/wanted/v1/list', params={\n",
    "    'page': 27,\n",
    "    'pageSize': 20\n",
    "}).json()['items']"
   ],
   "metadata": {
    "collapsed": false
   }
  },
  {
   "cell_type": "markdown",
   "source": [
    "### Clean Details"
   ],
   "metadata": {
    "collapsed": false
   }
  },
  {
   "cell_type": "code",
   "execution_count": 74,
   "outputs": [
    {
     "ename": "TypeError",
     "evalue": "object of type 'NoneType' has no len()",
     "output_type": "error",
     "traceback": [
      "\u001B[0;31m---------------------------------------------------------------------------\u001B[0m",
      "\u001B[0;31mTypeError\u001B[0m                                 Traceback (most recent call last)",
      "\u001B[0;32m/var/folders/zk/x4q7hp8x6rj59wmd8bpr5xf80000gn/T/ipykernel_11280/1636965360.py\u001B[0m in \u001B[0;36m<module>\u001B[0;34m\u001B[0m\n\u001B[1;32m      1\u001B[0m \u001B[0mfugitive\u001B[0m \u001B[0;34m=\u001B[0m \u001B[0mpd\u001B[0m\u001B[0;34m.\u001B[0m\u001B[0mDataFrame\u001B[0m\u001B[0;34m(\u001B[0m\u001B[0mresponse\u001B[0m\u001B[0;34m)\u001B[0m\u001B[0;34m\u001B[0m\u001B[0;34m\u001B[0m\u001B[0m\n\u001B[0;32m----> 2\u001B[0;31m \u001B[0mdetails\u001B[0m \u001B[0;34m=\u001B[0m \u001B[0mre\u001B[0m\u001B[0;34m.\u001B[0m\u001B[0msub\u001B[0m\u001B[0;34m(\u001B[0m\u001B[0;34mr'[\\n\\xa0]'\u001B[0m\u001B[0;34m,\u001B[0m \u001B[0;34m''\u001B[0m\u001B[0;34m,\u001B[0m \u001B[0mBeautifulSoup\u001B[0m\u001B[0;34m.\u001B[0m\u001B[0mBeautifulSoup\u001B[0m\u001B[0;34m(\u001B[0m\u001B[0mfugitive\u001B[0m\u001B[0;34m.\u001B[0m\u001B[0mdetails\u001B[0m\u001B[0;34m[\u001B[0m\u001B[0;36m0\u001B[0m\u001B[0;34m]\u001B[0m\u001B[0;34m)\u001B[0m\u001B[0;34m.\u001B[0m\u001B[0mget_text\u001B[0m\u001B[0;34m(\u001B[0m\u001B[0;34m)\u001B[0m\u001B[0;34m)\u001B[0m\u001B[0;34m\u001B[0m\u001B[0;34m\u001B[0m\u001B[0m\n\u001B[0m",
      "\u001B[0;32m~/opt/anaconda3/lib/python3.9/site-packages/bs4/__init__.py\u001B[0m in \u001B[0;36m__init__\u001B[0;34m(self, markup, features, builder, parse_only, from_encoding, exclude_encodings, element_classes, **kwargs)\u001B[0m\n\u001B[1;32m    310\u001B[0m         \u001B[0;32mif\u001B[0m \u001B[0mhasattr\u001B[0m\u001B[0;34m(\u001B[0m\u001B[0mmarkup\u001B[0m\u001B[0;34m,\u001B[0m \u001B[0;34m'read'\u001B[0m\u001B[0;34m)\u001B[0m\u001B[0;34m:\u001B[0m        \u001B[0;31m# It's a file-type object.\u001B[0m\u001B[0;34m\u001B[0m\u001B[0;34m\u001B[0m\u001B[0m\n\u001B[1;32m    311\u001B[0m             \u001B[0mmarkup\u001B[0m \u001B[0;34m=\u001B[0m \u001B[0mmarkup\u001B[0m\u001B[0;34m.\u001B[0m\u001B[0mread\u001B[0m\u001B[0;34m(\u001B[0m\u001B[0;34m)\u001B[0m\u001B[0;34m\u001B[0m\u001B[0;34m\u001B[0m\u001B[0m\n\u001B[0;32m--> 312\u001B[0;31m         elif len(markup) <= 256 and (\n\u001B[0m\u001B[1;32m    313\u001B[0m                 \u001B[0;34m(\u001B[0m\u001B[0misinstance\u001B[0m\u001B[0;34m(\u001B[0m\u001B[0mmarkup\u001B[0m\u001B[0;34m,\u001B[0m \u001B[0mbytes\u001B[0m\u001B[0;34m)\u001B[0m \u001B[0;32mand\u001B[0m \u001B[0;32mnot\u001B[0m \u001B[0;34mb'<'\u001B[0m \u001B[0;32min\u001B[0m \u001B[0mmarkup\u001B[0m\u001B[0;34m)\u001B[0m\u001B[0;34m\u001B[0m\u001B[0;34m\u001B[0m\u001B[0m\n\u001B[1;32m    314\u001B[0m                 \u001B[0;32mor\u001B[0m \u001B[0;34m(\u001B[0m\u001B[0misinstance\u001B[0m\u001B[0;34m(\u001B[0m\u001B[0mmarkup\u001B[0m\u001B[0;34m,\u001B[0m \u001B[0mstr\u001B[0m\u001B[0;34m)\u001B[0m \u001B[0;32mand\u001B[0m \u001B[0;32mnot\u001B[0m \u001B[0;34m'<'\u001B[0m \u001B[0;32min\u001B[0m \u001B[0mmarkup\u001B[0m\u001B[0;34m)\u001B[0m\u001B[0;34m\u001B[0m\u001B[0;34m\u001B[0m\u001B[0m\n",
      "\u001B[0;31mTypeError\u001B[0m: object of type 'NoneType' has no len()"
     ]
    }
   ],
   "source": [
    "fugitive = pd.DataFrame(response)\n",
    "details = re.sub(r'[\\n\\xa0]', '', BeautifulSoup.BeautifulSoup(fugitive.details[0]).get_text())"
   ],
   "metadata": {
    "collapsed": false
   }
  },
  {
   "cell_type": "code",
   "execution_count": 55,
   "outputs": [
    {
     "data": {
      "text/plain": "\"The FBI's Albuquerque Field Office, Farmington Resident Agency in New Mexico is seeking the public's assistance in finding the person(s) responsible for the death of Isiah Terrell Billy, who lived in Shiprock, New Mexico, on the Navajo Nation.On October 5, 2020, Billy was found deceased in a wash east of the Sinclair gas station near mile marker 23 on U.S. Highway 64, in Shiprock, New Mexico. The cause of death was ruled to be strangulation.\""
     },
     "execution_count": 55,
     "metadata": {},
     "output_type": "execute_result"
    }
   ],
   "source": [
    "details"
   ],
   "metadata": {
    "collapsed": false
   }
  },
  {
   "cell_type": "code",
   "execution_count": 23,
   "outputs": [
    {
     "data": {
      "text/plain": "languages                  object\nreward_max                  int64\nweight_max                float64\npublication                object\nage_range                  object\nreward_min                  int64\nplace_of_birth             object\npossible_countries         object\nsex                        object\nrace                       object\nreward_text                object\nheight_min                float64\nheight_max                float64\npossible_states            object\nrace_raw                   object\naliases                    object\ntitle                      object\ncaution                    object\nbuild                      object\nurl                        object\nsubjects                   object\nscars_and_marks            object\nlegat_names                object\nperson_classification      object\nsuspects                   object\nnationality                object\neyes_raw                   object\nage_min                   float64\ndetails                    object\nhair                       object\npath                       object\nadditional_information     object\ncomplexion                 object\nncic                       object\ncoordinates                object\nimages                     object\nuid                        object\nstatus                     object\nfiles                      object\nremarks                    object\nhair_raw                   object\neyes                       object\nwarning_message            object\ndescription                object\nlocations                  object\nfield_offices              object\nweight                     object\ndates_of_birth_used        object\noccupations                object\nweight_min                float64\nage_max                   float64\nmodified                   object\n@id                        object\ndtype: object"
     },
     "execution_count": 23,
     "metadata": {},
     "output_type": "execute_result"
    }
   ],
   "source": [
    "fugitive.dtypes"
   ],
   "metadata": {
    "collapsed": false
   }
  },
  {
   "cell_type": "markdown",
   "source": [
    "### Clean Remarks"
   ],
   "metadata": {
    "collapsed": false
   }
  },
  {
   "cell_type": "code",
   "execution_count": 24,
   "outputs": [
    {
     "ename": "TypeError",
     "evalue": "object of type 'NoneType' has no len()",
     "output_type": "error",
     "traceback": [
      "\u001B[0;31m---------------------------------------------------------------------------\u001B[0m",
      "\u001B[0;31mTypeError\u001B[0m                                 Traceback (most recent call last)",
      "\u001B[0;32m/var/folders/zk/x4q7hp8x6rj59wmd8bpr5xf80000gn/T/ipykernel_2520/3048199063.py\u001B[0m in \u001B[0;36m<module>\u001B[0;34m\u001B[0m\n\u001B[0;32m----> 1\u001B[0;31m \u001B[0mremarks\u001B[0m \u001B[0;34m=\u001B[0m \u001B[0mBeautifulSoup\u001B[0m\u001B[0;34m.\u001B[0m\u001B[0mBeautifulSoup\u001B[0m\u001B[0;34m(\u001B[0m\u001B[0mfugitive\u001B[0m\u001B[0;34m.\u001B[0m\u001B[0mremarks\u001B[0m\u001B[0;34m[\u001B[0m\u001B[0;36m0\u001B[0m\u001B[0;34m]\u001B[0m\u001B[0;34m)\u001B[0m\u001B[0;34m.\u001B[0m\u001B[0mget_text\u001B[0m\u001B[0;34m(\u001B[0m\u001B[0;34m)\u001B[0m\u001B[0;34m\u001B[0m\u001B[0;34m\u001B[0m\u001B[0m\n\u001B[0m",
      "\u001B[0;32m~/opt/anaconda3/lib/python3.9/site-packages/bs4/__init__.py\u001B[0m in \u001B[0;36m__init__\u001B[0;34m(self, markup, features, builder, parse_only, from_encoding, exclude_encodings, element_classes, **kwargs)\u001B[0m\n\u001B[1;32m    310\u001B[0m         \u001B[0;32mif\u001B[0m \u001B[0mhasattr\u001B[0m\u001B[0;34m(\u001B[0m\u001B[0mmarkup\u001B[0m\u001B[0;34m,\u001B[0m \u001B[0;34m'read'\u001B[0m\u001B[0;34m)\u001B[0m\u001B[0;34m:\u001B[0m        \u001B[0;31m# It's a file-type object.\u001B[0m\u001B[0;34m\u001B[0m\u001B[0;34m\u001B[0m\u001B[0m\n\u001B[1;32m    311\u001B[0m             \u001B[0mmarkup\u001B[0m \u001B[0;34m=\u001B[0m \u001B[0mmarkup\u001B[0m\u001B[0;34m.\u001B[0m\u001B[0mread\u001B[0m\u001B[0;34m(\u001B[0m\u001B[0;34m)\u001B[0m\u001B[0;34m\u001B[0m\u001B[0;34m\u001B[0m\u001B[0m\n\u001B[0;32m--> 312\u001B[0;31m         elif len(markup) <= 256 and (\n\u001B[0m\u001B[1;32m    313\u001B[0m                 \u001B[0;34m(\u001B[0m\u001B[0misinstance\u001B[0m\u001B[0;34m(\u001B[0m\u001B[0mmarkup\u001B[0m\u001B[0;34m,\u001B[0m \u001B[0mbytes\u001B[0m\u001B[0;34m)\u001B[0m \u001B[0;32mand\u001B[0m \u001B[0;32mnot\u001B[0m \u001B[0;34mb'<'\u001B[0m \u001B[0;32min\u001B[0m \u001B[0mmarkup\u001B[0m\u001B[0;34m)\u001B[0m\u001B[0;34m\u001B[0m\u001B[0;34m\u001B[0m\u001B[0m\n\u001B[1;32m    314\u001B[0m                 \u001B[0;32mor\u001B[0m \u001B[0;34m(\u001B[0m\u001B[0misinstance\u001B[0m\u001B[0;34m(\u001B[0m\u001B[0mmarkup\u001B[0m\u001B[0;34m,\u001B[0m \u001B[0mstr\u001B[0m\u001B[0;34m)\u001B[0m \u001B[0;32mand\u001B[0m \u001B[0;32mnot\u001B[0m \u001B[0;34m'<'\u001B[0m \u001B[0;32min\u001B[0m \u001B[0mmarkup\u001B[0m\u001B[0;34m)\u001B[0m\u001B[0;34m\u001B[0m\u001B[0;34m\u001B[0m\u001B[0m\n",
      "\u001B[0;31mTypeError\u001B[0m: object of type 'NoneType' has no len()"
     ]
    }
   ],
   "source": [
    "remarks = BeautifulSoup.BeautifulSoup(fugitive.remarks[0]).get_text()"
   ],
   "metadata": {
    "collapsed": false
   }
  },
  {
   "cell_type": "code",
   "execution_count": 25,
   "outputs": [
    {
     "name": "stdout",
     "output_type": "stream",
     "text": [
      "0\n"
     ]
    }
   ],
   "source": [
    "if fugitive.remarks[0] is not None:\n",
    "    remarks = BeautifulSoup.BeautifulSoup(fugitive.remarks[0]).get_text()\n",
    "    print(1)\n",
    "else:\n",
    "    print(0)\n"
   ],
   "metadata": {
    "collapsed": false
   }
  },
  {
   "cell_type": "markdown",
   "source": [
    "### Clean NCIC"
   ],
   "metadata": {
    "collapsed": false
   }
  },
  {
   "cell_type": "code",
   "execution_count": 26,
   "outputs": [
    {
     "data": {
      "text/plain": "0     None\n1     None\n2     None\n3     None\n4     None\n5     None\n6     None\n7     None\n8     None\n9     None\n10    None\n11    None\n12    None\n13    None\n14    None\n15    None\n16    None\n17    None\n18    None\n19    None\nName: ncic, dtype: object"
     },
     "execution_count": 26,
     "metadata": {},
     "output_type": "execute_result"
    }
   ],
   "source": [
    "fugitive.ncic # Just a str, assignment"
   ],
   "metadata": {
    "collapsed": false
   }
  },
  {
   "cell_type": "markdown",
   "source": [
    "### Scars and Marks"
   ],
   "metadata": {
    "collapsed": false
   }
  },
  {
   "cell_type": "code",
   "execution_count": 27,
   "outputs": [
    {
     "name": "stdout",
     "output_type": "stream",
     "text": [
      "2\n"
     ]
    }
   ],
   "source": [
    "if fugitive.scars_and_marks[0] is not None:\n",
    "    re.sub(r'[\\n\\r]', '', fugitive.scars_and_marks[0])\n",
    "    print(1)\n",
    "else:\n",
    "    print(2)"
   ],
   "metadata": {
    "collapsed": false
   }
  },
  {
   "cell_type": "code",
   "execution_count": 28,
   "outputs": [
    {
     "data": {
      "text/plain": "0     [{'large': 'https://www.fbi.gov/wanted/seeking...\n1     [{'large': 'https://www.fbi.gov/wanted/counter...\n2     [{'large': 'https://www.fbi.gov/wanted/vicap/m...\n3     [{'large': 'https://www.fbi.gov/wanted/seeking...\n4     [{'large': 'https://www.fbi.gov/wanted/kidnap/...\n5     [{'large': 'https://www.fbi.gov/wanted/kidnap/...\n6     [{'large': 'https://www.fbi.gov/wanted/additio...\n7     [{'large': 'https://www.fbi.gov/wanted/vicap/m...\n8     [{'large': 'https://www.fbi.gov/wanted/cei/ope...\n9     [{'large': 'https://www.fbi.gov/wanted/vicap/m...\n10    [{'large': 'https://www.fbi.gov/wanted/vicap/u...\n11    [{'large': 'https://www.fbi.gov/wanted/seeking...\n12    [{'large': 'https://www.fbi.gov/wanted/counter...\n13    [{'large': 'https://www.fbi.gov/wanted/wcc/fre...\n14    [{'large': 'https://www.fbi.gov/wanted/vicap/m...\n15    [{'large': 'https://www.fbi.gov/wanted/kidnap/...\n16    [{'large': 'https://www.fbi.gov/wanted/vicap/m...\n17    [{'large': 'https://www.fbi.gov/wanted/cyber/y...\n18    [{'large': 'https://www.fbi.gov/wanted/cei/dar...\n19    [{'large': 'https://www.fbi.gov/wanted/seeking...\nName: images, dtype: object"
     },
     "execution_count": 28,
     "metadata": {},
     "output_type": "execute_result"
    }
   ],
   "source": [
    "fugitive.images"
   ],
   "metadata": {
    "collapsed": false
   }
  },
  {
   "cell_type": "code",
   "execution_count": 29,
   "outputs": [
    {
     "data": {
      "text/plain": "0    https://www.fbi.gov/wanted/seeking-info/attemp...\n1    https://www.fbi.gov/wanted/seeking-info/attemp...\n2    https://www.fbi.gov/wanted/seeking-info/attemp...\nName: original, dtype: object"
     },
     "execution_count": 29,
     "metadata": {},
     "output_type": "execute_result"
    }
   ],
   "source": [
    "images = pd.DataFrame(fugitive.images[0])\n",
    "images.original"
   ],
   "metadata": {
    "collapsed": false
   }
  },
  {
   "cell_type": "code",
   "execution_count": 30,
   "outputs": [],
   "source": [
    "class Images:\n",
    "    def __init__(self, df):\n",
    "        self.df = pd.DataFrame(df)\n",
    "        self.original = self.df.original.tolist()\n",
    "        self.large = self.df.large.tolist()\n",
    "        self.caption = self.df.caption.tolist()\n",
    "        self.thumb = self.df.thumb.tolist()"
   ],
   "metadata": {
    "collapsed": false
   }
  },
  {
   "cell_type": "code",
   "execution_count": 31,
   "outputs": [],
   "source": [
    "imageClass = Images(df=fugitive.images[0])"
   ],
   "metadata": {
    "collapsed": false
   }
  },
  {
   "cell_type": "code",
   "execution_count": 32,
   "outputs": [
    {
     "data": {
      "text/plain": "['https://www.fbi.gov/wanted/seeking-info/attempted-armored-car-robbery/@@images/image/large',\n 'https://www.fbi.gov/wanted/seeking-info/attempted-armored-car-robbery/pharmoredcar3.png/@@images/image/large',\n 'https://www.fbi.gov/wanted/seeking-info/attempted-armored-car-robbery/pharmoredcar1.png/@@images/image/large']"
     },
     "execution_count": 32,
     "metadata": {},
     "output_type": "execute_result"
    }
   ],
   "source": [
    "imageClass.large"
   ],
   "metadata": {
    "collapsed": false
   }
  },
  {
   "cell_type": "code",
   "execution_count": 32,
   "outputs": [],
   "source": [],
   "metadata": {
    "collapsed": false
   }
  },
  {
   "cell_type": "code",
   "execution_count": 33,
   "outputs": [
    {
     "data": {
      "text/plain": "0       Main\n1       Main\n2       Main\n3       Main\n4       Main\n5       Main\n6       Main\n7       Main\n8       Main\n9       Main\n10      Main\n11      Main\n12      Main\n13      Main\n14      Main\n15      Main\n16      Main\n17      Main\n18      Main\n19    Victim\nName: person_classification, dtype: object"
     },
     "execution_count": 33,
     "metadata": {},
     "output_type": "execute_result"
    }
   ],
   "source": [
    "fugitive.person_classification"
   ],
   "metadata": {
    "collapsed": false
   }
  },
  {
   "cell_type": "code",
   "execution_count": 34,
   "outputs": [
    {
     "data": {
      "text/plain": "'Main'"
     },
     "execution_count": 34,
     "metadata": {},
     "output_type": "execute_result"
    }
   ],
   "source": [
    "fugitive.person_classification[0]"
   ],
   "metadata": {
    "collapsed": false
   }
  },
  {
   "cell_type": "code",
   "execution_count": 35,
   "outputs": [
    {
     "data": {
      "text/plain": "0                                                  None\n1                                                  None\n2                  60 pounds (at time of disappearance)\n3                                            140 pounds\n4                                            115 pounds\n5     Approximately 40 to 42 pounds (at time of disa...\n6                                     196 to 201 pounds\n7                                            190 pounds\n8                                                  None\n9                              Approximately 170 pounds\n10                                    114 to 145 pounds\n11                                                 None\n12                                                 None\n13                                    209 to 210 pounds\n14                                           160 pounds\n15                                           115 pounds\n16                                           160 pounds\n17                                                 None\n18                                    180 to 190 pounds\n19                                           144 pounds\nName: weight, dtype: object"
     },
     "execution_count": 35,
     "metadata": {},
     "output_type": "execute_result"
    }
   ],
   "source": [
    "fugitive.weight"
   ],
   "metadata": {
    "collapsed": false
   }
  },
  {
   "cell_type": "markdown",
   "source": [
    "# Weight\n",
    "What we can do is split the string into a list, and check for all elements in it:\n",
    "Condtions:\n",
    "1 int: weight (lbs)\n",
    "2 int: (x + y ) /2 to get average\n",
    "1 int + kg str: convert to lbs\n",
    "2 int + kg str:"
   ],
   "metadata": {
    "collapsed": false
   }
  },
  {
   "cell_type": "code",
   "execution_count": 36,
   "outputs": [
    {
     "data": {
      "text/plain": "0      NaN\n1      NaN\n2     54.0\n3     66.0\n4     66.0\n5     40.0\n6     73.0\n7     68.0\n8      NaN\n9     70.0\n10    62.0\n11     NaN\n12     NaN\n13    68.0\n14    71.0\n15    66.0\n16    72.0\n17     NaN\n18    69.0\n19    64.0\nName: height_min, dtype: float64"
     },
     "execution_count": 36,
     "metadata": {},
     "output_type": "execute_result"
    }
   ],
   "source": [
    "fugitive.height_min"
   ],
   "metadata": {
    "collapsed": false
   }
  },
  {
   "cell_type": "code",
   "execution_count": 66,
   "outputs": [
    {
     "data": {
      "text/plain": "'white'"
     },
     "execution_count": 66,
     "metadata": {},
     "output_type": "execute_result"
    }
   ],
   "source": [
    "fugitive.race[1]"
   ],
   "metadata": {
    "collapsed": false
   }
  },
  {
   "cell_type": "code",
   "execution_count": 67,
   "outputs": [
    {
     "data": {
      "text/plain": "0                                        None\n1                                        None\n2      6 years old (at time of disappearance)\n3                                        None\n4                                        None\n5                                        None\n6                                        None\n7     36 years old (at time of disappearance)\n8                                        None\n9                  Approximately 22 years old\n10                         20 to 45 years old\n11                                       None\n12                                       None\n13                                       None\n14              22 (at time of disappearance)\n15                                       None\n16                            Forty years old\n17                                       None\n18                                       None\n19                                       None\nName: age_range, dtype: object"
     },
     "execution_count": 67,
     "metadata": {},
     "output_type": "execute_result"
    }
   ],
   "source": [
    "fugitive.age_range"
   ],
   "metadata": {
    "collapsed": false
   }
  },
  {
   "cell_type": "code",
   "execution_count": 68,
   "outputs": [
    {
     "data": {
      "text/plain": "0                                                  None\n1         [Boris Levitan, Boris Livshitc, David Wetzky]\n2                                                  None\n3                                             [\"Molly\"]\n4                              [Susan Gail Carter Webb]\n5        [Aganza Maria Ochoa Lopez, Aranza Ochoa Lopez]\n6                                                  None\n7                                                  None\n8                                                  None\n9                                                  None\n10                                                 None\n11                                                 None\n12                                [Aleksandr Korshunov]\n13                     [Fred Arias, Frederick M. Arias]\n14                                                 None\n15                     [Mary E. Davis, Mary E. Johnson]\n16                                                 None\n17    [Yevhgyeniy Polyanin, Yevgeniy Polyanin, Yevgv...\n18    [“Mystickal”, \"Mystikal\", “Rizzus\", \"Russel\", ...\n19                                                 None\nName: aliases, dtype: object"
     },
     "execution_count": 68,
     "metadata": {},
     "output_type": "execute_result"
    }
   ],
   "source": [
    "fugitive.aliases"
   ],
   "metadata": {
    "collapsed": false
   }
  },
  {
   "cell_type": "code",
   "execution_count": 178,
   "outputs": [
    {
     "ename": "TypeError",
     "evalue": "'NoneType' object is not iterable",
     "output_type": "error",
     "traceback": [
      "\u001B[0;31m---------------------------------------------------------------------------\u001B[0m",
      "\u001B[0;31mTypeError\u001B[0m                                 Traceback (most recent call last)",
      "\u001B[0;32m/var/folders/zk/x4q7hp8x6rj59wmd8bpr5xf80000gn/T/ipykernel_2520/3587578581.py\u001B[0m in \u001B[0;36m<module>\u001B[0;34m\u001B[0m\n\u001B[0;32m----> 1\u001B[0;31m \u001B[0;32mfor\u001B[0m \u001B[0malias\u001B[0m \u001B[0;32min\u001B[0m \u001B[0mfugitive\u001B[0m\u001B[0;34m.\u001B[0m\u001B[0maliases\u001B[0m\u001B[0;34m[\u001B[0m\u001B[0;36m0\u001B[0m\u001B[0;34m]\u001B[0m\u001B[0;34m:\u001B[0m\u001B[0;34m\u001B[0m\u001B[0;34m\u001B[0m\u001B[0m\n\u001B[0m\u001B[1;32m      2\u001B[0m     \u001B[0;32mif\u001B[0m \u001B[0;34m'\"'\u001B[0m \u001B[0;32min\u001B[0m \u001B[0malias\u001B[0m \u001B[0;32mor\u001B[0m \u001B[0;34m'“'\u001B[0m \u001B[0;32min\u001B[0m \u001B[0malias\u001B[0m\u001B[0;34m:\u001B[0m\u001B[0;34m\u001B[0m\u001B[0;34m\u001B[0m\u001B[0m\n\u001B[1;32m      3\u001B[0m         \u001B[0mmatch\u001B[0m \u001B[0;34m=\u001B[0m \u001B[0mre\u001B[0m\u001B[0;34m.\u001B[0m\u001B[0msearch\u001B[0m\u001B[0;34m(\u001B[0m\u001B[0;34mr'\"(.*?)\"|“(.*?)”|“(.*?)\"|\"(.*?)“'\u001B[0m\u001B[0;34m,\u001B[0m \u001B[0malias\u001B[0m\u001B[0;34m)\u001B[0m\u001B[0;34m.\u001B[0m\u001B[0mgroup\u001B[0m\u001B[0;34m(\u001B[0m\u001B[0;36m0\u001B[0m\u001B[0;34m)\u001B[0m\u001B[0;34m\u001B[0m\u001B[0;34m\u001B[0m\u001B[0m\n\u001B[1;32m      4\u001B[0m         \u001B[0mmatch\u001B[0m \u001B[0;34m=\u001B[0m \u001B[0mre\u001B[0m\u001B[0;34m.\u001B[0m\u001B[0msub\u001B[0m\u001B[0;34m(\u001B[0m\u001B[0;34mr'[\\\"|\\“]'\u001B[0m\u001B[0;34m,\u001B[0m \u001B[0;34m\"\"\u001B[0m\u001B[0;34m,\u001B[0m \u001B[0mmatch\u001B[0m\u001B[0;34m)\u001B[0m\u001B[0;34m\u001B[0m\u001B[0;34m\u001B[0m\u001B[0m\n\u001B[1;32m      5\u001B[0m         \u001B[0mprint\u001B[0m\u001B[0;34m(\u001B[0m\u001B[0;34mf\"Alias: {alias}, Match: {match}\"\u001B[0m\u001B[0;34m)\u001B[0m\u001B[0;34m\u001B[0m\u001B[0;34m\u001B[0m\u001B[0m\n",
      "\u001B[0;31mTypeError\u001B[0m: 'NoneType' object is not iterable"
     ]
    }
   ],
   "source": [
    "for alias in fugitive.aliases[0]:\n",
    "    if '\"' in alias or '“' in alias:\n",
    "        match = re.search(r'\"(.*?)\"|“(.*?)”|“(.*?)\"|\"(.*?)“', alias).group(0)\n",
    "        match = re.sub(r'[\\\"|\\“]', \"\", match)\n",
    "        print(f\"Alias: {alias}, Match: {match}\")\n",
    "    else:\n",
    "        print(alias)\n"
   ],
   "metadata": {
    "collapsed": false
   }
  },
  {
   "cell_type": "markdown",
   "source": [
    "[“Mystickal”, \"Mystikal\", “Rizzus\", \"Russel\", \"Crusty Rusty\"]"
   ],
   "metadata": {
    "collapsed": false
   }
  },
  {
   "cell_type": "code",
   "execution_count": 186,
   "outputs": [
    {
     "data": {
      "text/plain": "0     712c3469993e4eb8ad706b65082b37ef\n1     d1af1b9c5c3648ebb1cf926cb8c4fb09\n2     64cd2584930e49278a2951b71e12717e\n3     952a0f45262b4a3a80f3d7839dda45fd\n4     66802fe008634da18d76070e809e2271\n5     32eeba50d906400786c23ed38133fd04\n6     35864dde9dbe4d058f9e372a6ea04b4f\n7     7e2490248a2746ccb011d7d11abea5a9\n8     ed0db933b9154f6c8b67b67db42a7f77\n9     421f5461e4b34c82a6930bd1ebb0d792\n10    1e8ab5f701bd4497bf3344a9935f2a7a\n11    6bc39f5fe60a404899acd3ea41999ec1\n12    c9444d9fc13f47de89f25b1a17249021\n13    1ef7b9c988984e4aa6d87a8557fbbf1f\n14    ba916f70bdcd4ee8872b6e6f76643be1\n15    b5e7d23089834cf79709b9042400ca8e\n16    9957ba299d774955b857bad921685cac\n17    5a57f941293242e5b02b1d6069f19f8c\n18    d116fc824786453eaa1f2aca9b34ca8e\n19    f80e60096f844abb979f2688b039f7ec\nName: uid, dtype: object"
     },
     "execution_count": 186,
     "metadata": {},
     "output_type": "execute_result"
    }
   ],
   "source": [
    "fugitive.uid"
   ],
   "metadata": {
    "collapsed": false
   }
  },
  {
   "cell_type": "code",
   "execution_count": 212,
   "outputs": [
    {
     "data": {
      "text/plain": "0     None\n1     None\n2     None\n3     None\n4     None\n5     None\n6     None\n7     None\n8     None\n9     None\n10    None\n11    None\n12    None\n13    None\n14    None\n15    None\n16    None\n17    None\n18    None\n19    None\nName: locations, dtype: object"
     },
     "execution_count": 212,
     "metadata": {},
     "output_type": "execute_result"
    }
   ],
   "source": [
    "fugitive.locations"
   ],
   "metadata": {
    "collapsed": false
   }
  },
  {
   "cell_type": "code",
   "execution_count": 223,
   "outputs": [
    {
     "name": "stdout",
     "output_type": "stream",
     "text": [
      "None\n"
     ]
    }
   ],
   "source": [
    "status = None if fugitive.status[9] == \"na\" else None\n",
    "print(status)"
   ],
   "metadata": {
    "collapsed": false
   }
  },
  {
   "cell_type": "markdown",
   "source": [],
   "metadata": {
    "collapsed": false
   }
  },
  {
   "cell_type": "code",
   "execution_count": null,
   "outputs": [],
   "source": [],
   "metadata": {
    "collapsed": false
   }
  },
  {
   "cell_type": "code",
   "execution_count": 233,
   "outputs": [
    {
     "data": {
      "text/plain": "0         0\n1         0\n2         0\n3         0\n4         0\n5         0\n6         0\n7     10000\n8         0\n9         0\n10        0\n11        0\n12        0\n13        0\n14        0\n15        0\n16        0\n17        0\n18        0\n19        0\nName: reward_max, dtype: int64"
     },
     "execution_count": 233,
     "metadata": {},
     "output_type": "execute_result"
    }
   ],
   "source": [
    "fugitive.reward_max"
   ],
   "metadata": {
    "collapsed": false
   }
  },
  {
   "cell_type": "markdown",
   "source": [
    "fugitive.reward_max[7]"
   ],
   "metadata": {
    "collapsed": false
   }
  },
  {
   "cell_type": "code",
   "execution_count": 235,
   "outputs": [
    {
     "data": {
      "text/plain": "numpy.int64"
     },
     "execution_count": 235,
     "metadata": {},
     "output_type": "execute_result"
    }
   ],
   "source": [
    "type(fugitive.reward_max[7])"
   ],
   "metadata": {
    "collapsed": false
   }
  },
  {
   "cell_type": "code",
   "execution_count": null,
   "outputs": [],
   "source": [],
   "metadata": {
    "collapsed": false
   }
  },
  {
   "cell_type": "code",
   "execution_count": null,
   "outputs": [],
   "source": [],
   "metadata": {
    "collapsed": false
   }
  },
  {
   "cell_type": "code",
   "execution_count": 264,
   "outputs": [
    {
     "data": {
      "text/plain": "0           0\n1     1000000\n2     1000000\n3           0\n4           0\n5           0\n6           0\n7           0\n8           0\n9           0\n10          0\n11          0\n12          0\n13          0\n14          0\n15          0\n16          0\n17          0\n18          0\n19          0\nName: reward_min, dtype: int64"
     },
     "execution_count": 264,
     "metadata": {},
     "output_type": "execute_result"
    }
   ],
   "source": [
    "fugitive.reward_min"
   ],
   "metadata": {
    "collapsed": false
   }
  },
  {
   "cell_type": "code",
   "execution_count": 266,
   "outputs": [
    {
     "data": {
      "text/plain": "numpy.int64"
     },
     "execution_count": 266,
     "metadata": {},
     "output_type": "execute_result"
    }
   ],
   "source": [
    "type(fugitive.reward_min[1])"
   ],
   "metadata": {
    "collapsed": false
   }
  },
  {
   "cell_type": "code",
   "execution_count": 304,
   "outputs": [
    {
     "data": {
      "text/plain": "0     [{'url': 'https://www.fbi.gov/wanted/additiona...\n1     [{'url': 'https://www.fbi.gov/wanted/cei/semio...\n2     [{'url': 'https://www.fbi.gov/wanted/counterin...\n3     [{'url': 'https://www.fbi.gov/wanted/seeking-i...\n4     [{'url': 'https://www.fbi.gov/wanted/vicap/uni...\n5     [{'url': 'https://www.fbi.gov/wanted/seeking-i...\n6     [{'url': 'https://www.fbi.gov/wanted/seeking-i...\n7     [{'url': 'https://www.fbi.gov/wanted/wcc/mykal...\n8     [{'url': 'https://www.fbi.gov/wanted/murders/m...\n9     [{'url': 'https://www.fbi.gov/wanted/seeking-i...\n10    [{'url': 'https://www.fbi.gov/wanted/kidnap/na...\n11    [{'url': 'https://www.fbi.gov/wanted/seeking-i...\n12    [{'url': 'https://www.fbi.gov/wanted/vicap/uni...\n13    [{'url': 'https://www.fbi.gov/wanted/additiona...\n14    [{'url': 'https://www.fbi.gov/wanted/vicap/uni...\n15    [{'url': 'https://www.fbi.gov/wanted/seeking-i...\n16    [{'url': 'https://www.fbi.gov/wanted/seeking-i...\n17    [{'url': 'https://www.fbi.gov/wanted/vicap/uni...\n18    [{'url': 'https://www.fbi.gov/wanted/vicap/uni...\n19    [{'url': 'https://www.fbi.gov/wanted/vicap/uni...\nName: files, dtype: object"
     },
     "execution_count": 304,
     "metadata": {},
     "output_type": "execute_result"
    }
   ],
   "source": [
    "fugitive.files"
   ],
   "metadata": {
    "collapsed": false
   }
  },
  {
   "cell_type": "markdown",
   "source": [],
   "metadata": {
    "collapsed": false
   }
  },
  {
   "cell_type": "code",
   "execution_count": 306,
   "outputs": [
    {
     "data": {
      "text/plain": "   languages  reward_max  weight_max          publication  \\\n0       None           0       160.0  2022-11-03T11:41:00   \n1       None           0       290.0  2010-07-20T16:25:00   \n2       None           0         NaN  2020-06-04T10:57:00   \n3       None           0         NaN  2022-10-05T12:41:00   \n4       None           0       200.0  2023-01-12T11:08:00   \n5       None           0         NaN  2022-02-22T12:11:00   \n6       None           0         NaN  2020-08-04T14:04:00   \n7       None           0       290.0  2020-09-29T07:47:00   \n8       None           0       160.0  2020-09-25T07:32:00   \n9       None           0         NaN  2020-09-28T12:48:00   \n10      None           0        50.0  2021-11-09T07:35:00   \n11      None           0       205.0  2019-10-31T11:23:00   \n12      None           0         NaN  2019-02-28T14:22:00   \n13      None           0       150.0  2019-03-01T08:17:00   \n14      None           0       170.0  2011-03-25T14:40:00   \n15      None           0       130.0  2021-02-05T08:51:00   \n16      None           0         NaN  2021-10-12T07:56:00   \n17      None           0       176.0  2010-10-26T20:15:00   \n18      None           0       120.0  2010-10-26T19:50:00   \n19      None           0       255.0  2017-03-30T07:01:00   \n\n                           age_range  reward_min  \\\n0                               None           0   \n1                               None           0   \n2                               None           0   \n3                               None           0   \n4                 20 to 50 years old           0   \n5                               None           0   \n6                               None           0   \n7                               None           0   \n8                               None           0   \n9                               None           0   \n10                              None           0   \n11                              None           0   \n12  Approximately 17 to 23 years old           0   \n13                              None           0   \n14                15 to 30 years old           0   \n15                              None           0   \n16                              None           0   \n17                40 to 60 years old           0   \n18                17 to 25 years old           0   \n19                 35 - 50 years old           0   \n\n                        place_of_birth possible_countries     sex      race  \\\n0                                Haiti               None    Male     black   \n1                        Kyiv, Ukraine               None    Male     white   \n2                               Russia               None    Male     white   \n3                                 None               None    None      None   \n4                                 None               None  Female     white   \n5                                 None               None    None      None   \n6                                 None               None    None      None   \n7                             Illinois               None    Male     white   \n8                               Mexico               None    Male  hispanic   \n9                                 None               None    None      None   \n10                                None               None  Female     white   \n11                                None               None    Male    native   \n12                                None               None    Male  hispanic   \n13  Bel Ombre, Mahe Island, Seychelles               None    Male     white   \n14                                None               None  Female     white   \n15                                None               None    Male    native   \n16                                None               None    None      None   \n17                                None               None  Female     white   \n18                                None               None  Female     white   \n19                                None               None    Male     white   \n\n    ...                                        description  locations  \\\n0   ...  Conspiracy to Commit Hostage Taking; Hostage T...       None   \n1   ...  Fraud by Wire; RICO Conspiracy; Mail Fraud; Mo...       None   \n2   ...            Conspiracy to Defraud the United States       None   \n3   ...  Murder Victims\\r\\nFitzgerald, Georgia\\r\\nSepte...       None   \n4   ...              December 2, 2022\\r\\nRiceboro, Georgia       None   \n5   ...  Homicide Victims\\r\\nConway, South Carolina\\r\\n...       None   \n6   ...               Salt Lake City, Utah\\r\\nMay 30, 2020       None   \n7   ...  Securities Fraud (One Count); Wire Fraud (Six ...       None   \n8   ...      Unlawful Flight to Avoid Prosecution - Murder       None   \n9   ...  Homicide Victim\\r\\nWarm Springs Indian Reserva...       None   \n10  ...           August 8, 2000\\r\\nBeckley, West Virginia       None   \n11  ...          Grand Forks, North Dakota\\r\\nJuly 3, 2018       None   \n12  ...              Needville, Texas\\r\\nDecember 17, 2000       None   \n13  ...  Unlawful Flight to Avoid Prosecution - Failure...       None   \n14  ...  Newport, Watts Township, Perry County, Pennsyl...       None   \n15  ...  Homicide Victim\\r\\nNenahnezad, New Mexico\\r\\nJ...       None   \n16  ...  Homicide Victim\\r\\nPortland, Oregon\\r\\nJune 11...       None   \n17  ...            Collier County, Florida\\r\\nJune 3, 1978       None   \n18  ...               Frederick, Maryland\\r\\nJuly 31, 1991       None   \n19  ...  Unidentified Male\\r\\nLake Barkley, Lyons Count...       None   \n\n     field_offices                                        weight  \\\n0          [miami]                                    160 pounds   \n1   [philadelphia]                                    290 pounds   \n2   [washingtondc]                                          None   \n3        [atlanta]                                          None   \n4             None                             185 to 200 pounds   \n5       [columbia]                                          None   \n6   [saltlakecity]                                          None   \n7       [lasvegas]                                    290 pounds   \n8     [sacramento]                                    160 pounds   \n9       [portland]                                          None   \n10    [pittsburgh]  50 pounds (at the time of her disappearance)   \n11   [minneapolis]                                    205 pounds   \n12            None                                          None   \n13      [portland]                                    150 pounds   \n14            None                      Approximately 170 pounds   \n15   [albuquerque]                                    130 pounds   \n16      [portland]                                          None   \n17            None                      Approximately 176 pounds   \n18            None                             110 to 120 pounds   \n19            None                              235 - 255 pounds   \n\n                   dates_of_birth_used                      occupations  \\\n0                                 None                             None   \n1        [June 30, 1946, July 5, 1946]                    [Businessman]   \n2                  [December 21, 1958]                             None   \n3                                 None                             None   \n4                                 None                             None   \n5                                 None                             None   \n6                                 None                             None   \n7   [October 4, 1969, October 4, 1966]                             None   \n8                   [October 21, 1975]                   [Farm Laborer]   \n9                                 None                             None   \n10                 [December 22, 1989]                             None   \n11                  [November 7, 1979]                             None   \n12                                None                             None   \n13                 [December 30, 1966]  [Waiter or Food Service Worker]   \n14                                None                             None   \n15                       [May 5, 1997]                             None   \n16                                None                             None   \n17                                None                             None   \n18                                None                             None   \n19                                None                             None   \n\n   weight_min age_max                   modified  \\\n0       160.0     NaN  2023-01-16T00:13:23+00:00   \n1       290.0     NaN  2023-01-16T00:13:22+00:00   \n2         NaN     NaN  2023-01-16T00:13:22+00:00   \n3         NaN     NaN  2023-01-16T00:13:21+00:00   \n4       185.0    50.0  2023-01-16T00:13:21+00:00   \n5         NaN     NaN  2023-01-16T00:13:21+00:00   \n6         NaN     NaN  2023-01-16T00:13:20+00:00   \n7       290.0     NaN  2023-01-16T00:13:19+00:00   \n8       160.0     NaN  2023-01-16T00:13:18+00:00   \n9         NaN     NaN  2023-01-16T00:13:18+00:00   \n10       50.0     NaN  2023-01-16T00:13:17+00:00   \n11      205.0     NaN  2023-01-16T00:13:17+00:00   \n12        NaN    23.0  2023-01-16T00:13:16+00:00   \n13      150.0     NaN  2023-01-16T00:13:16+00:00   \n14      170.0    30.0  2023-01-16T00:13:14+00:00   \n15      130.0     NaN  2023-01-16T00:13:14+00:00   \n16        NaN     NaN  2023-01-16T00:13:14+00:00   \n17      176.0    60.0  2023-01-16T00:13:13+00:00   \n18      110.0    25.0  2023-01-16T00:13:12+00:00   \n19      235.0    50.0  2023-01-16T00:13:11+00:00   \n\n                                                  @id  \n0   https://api.fbi.gov/@wanted-person/b54a9ec0a2f...  \n1   https://api.fbi.gov/@wanted-person/34c738a021b...  \n2   https://api.fbi.gov/@wanted-person/e8333eccb19...  \n3   https://api.fbi.gov/@wanted-person/38f36a4016a...  \n4   https://api.fbi.gov/@wanted-person/f481dd60ff6...  \n5   https://api.fbi.gov/@wanted-person/c7acc640dab...  \n6   https://api.fbi.gov/@wanted-person/90aa56f0240...  \n7   https://api.fbi.gov/@wanted-person/fe16684709a...  \n8   https://api.fbi.gov/@wanted-person/dfcf24ee89c...  \n9   https://api.fbi.gov/@wanted-person/76ed29d2b65...  \n10  https://api.fbi.gov/@wanted-person/9bcc9e5e443...  \n11  https://api.fbi.gov/@wanted-person/c4fd39182b9...  \n12  https://api.fbi.gov/@wanted-person/0de65261a2d...  \n13  https://api.fbi.gov/@wanted-person/08fffb803ba...  \n14  https://api.fbi.gov/@wanted-person/cb6907bf45a...  \n15  https://api.fbi.gov/@wanted-person/f042ad53ce1...  \n16  https://api.fbi.gov/@wanted-person/6aa0012ab5b...  \n17  https://api.fbi.gov/@wanted-person/f83bc2fd6b8...  \n18  https://api.fbi.gov/@wanted-person/50cccd96911...  \n19  https://api.fbi.gov/@wanted-person/3171d5d219d...  \n\n[20 rows x 53 columns]",
      "text/html": "<div>\n<style scoped>\n    .dataframe tbody tr th:only-of-type {\n        vertical-align: middle;\n    }\n\n    .dataframe tbody tr th {\n        vertical-align: top;\n    }\n\n    .dataframe thead th {\n        text-align: right;\n    }\n</style>\n<table border=\"1\" class=\"dataframe\">\n  <thead>\n    <tr style=\"text-align: right;\">\n      <th></th>\n      <th>languages</th>\n      <th>reward_max</th>\n      <th>weight_max</th>\n      <th>publication</th>\n      <th>age_range</th>\n      <th>reward_min</th>\n      <th>place_of_birth</th>\n      <th>possible_countries</th>\n      <th>sex</th>\n      <th>race</th>\n      <th>...</th>\n      <th>description</th>\n      <th>locations</th>\n      <th>field_offices</th>\n      <th>weight</th>\n      <th>dates_of_birth_used</th>\n      <th>occupations</th>\n      <th>weight_min</th>\n      <th>age_max</th>\n      <th>modified</th>\n      <th>@id</th>\n    </tr>\n  </thead>\n  <tbody>\n    <tr>\n      <th>0</th>\n      <td>None</td>\n      <td>0</td>\n      <td>160.0</td>\n      <td>2022-11-03T11:41:00</td>\n      <td>None</td>\n      <td>0</td>\n      <td>Haiti</td>\n      <td>None</td>\n      <td>Male</td>\n      <td>black</td>\n      <td>...</td>\n      <td>Conspiracy to Commit Hostage Taking; Hostage T...</td>\n      <td>None</td>\n      <td>[miami]</td>\n      <td>160 pounds</td>\n      <td>None</td>\n      <td>None</td>\n      <td>160.0</td>\n      <td>NaN</td>\n      <td>2023-01-16T00:13:23+00:00</td>\n      <td>https://api.fbi.gov/@wanted-person/b54a9ec0a2f...</td>\n    </tr>\n    <tr>\n      <th>1</th>\n      <td>None</td>\n      <td>0</td>\n      <td>290.0</td>\n      <td>2010-07-20T16:25:00</td>\n      <td>None</td>\n      <td>0</td>\n      <td>Kyiv, Ukraine</td>\n      <td>None</td>\n      <td>Male</td>\n      <td>white</td>\n      <td>...</td>\n      <td>Fraud by Wire; RICO Conspiracy; Mail Fraud; Mo...</td>\n      <td>None</td>\n      <td>[philadelphia]</td>\n      <td>290 pounds</td>\n      <td>[June 30, 1946, July 5, 1946]</td>\n      <td>[Businessman]</td>\n      <td>290.0</td>\n      <td>NaN</td>\n      <td>2023-01-16T00:13:22+00:00</td>\n      <td>https://api.fbi.gov/@wanted-person/34c738a021b...</td>\n    </tr>\n    <tr>\n      <th>2</th>\n      <td>None</td>\n      <td>0</td>\n      <td>NaN</td>\n      <td>2020-06-04T10:57:00</td>\n      <td>None</td>\n      <td>0</td>\n      <td>Russia</td>\n      <td>None</td>\n      <td>Male</td>\n      <td>white</td>\n      <td>...</td>\n      <td>Conspiracy to Defraud the United States</td>\n      <td>None</td>\n      <td>[washingtondc]</td>\n      <td>None</td>\n      <td>[December 21, 1958]</td>\n      <td>None</td>\n      <td>NaN</td>\n      <td>NaN</td>\n      <td>2023-01-16T00:13:22+00:00</td>\n      <td>https://api.fbi.gov/@wanted-person/e8333eccb19...</td>\n    </tr>\n    <tr>\n      <th>3</th>\n      <td>None</td>\n      <td>0</td>\n      <td>NaN</td>\n      <td>2022-10-05T12:41:00</td>\n      <td>None</td>\n      <td>0</td>\n      <td>None</td>\n      <td>None</td>\n      <td>None</td>\n      <td>None</td>\n      <td>...</td>\n      <td>Murder Victims\\r\\nFitzgerald, Georgia\\r\\nSepte...</td>\n      <td>None</td>\n      <td>[atlanta]</td>\n      <td>None</td>\n      <td>None</td>\n      <td>None</td>\n      <td>NaN</td>\n      <td>NaN</td>\n      <td>2023-01-16T00:13:21+00:00</td>\n      <td>https://api.fbi.gov/@wanted-person/38f36a4016a...</td>\n    </tr>\n    <tr>\n      <th>4</th>\n      <td>None</td>\n      <td>0</td>\n      <td>200.0</td>\n      <td>2023-01-12T11:08:00</td>\n      <td>20 to 50 years old</td>\n      <td>0</td>\n      <td>None</td>\n      <td>None</td>\n      <td>Female</td>\n      <td>white</td>\n      <td>...</td>\n      <td>December 2, 2022\\r\\nRiceboro, Georgia</td>\n      <td>None</td>\n      <td>None</td>\n      <td>185 to 200 pounds</td>\n      <td>None</td>\n      <td>None</td>\n      <td>185.0</td>\n      <td>50.0</td>\n      <td>2023-01-16T00:13:21+00:00</td>\n      <td>https://api.fbi.gov/@wanted-person/f481dd60ff6...</td>\n    </tr>\n    <tr>\n      <th>5</th>\n      <td>None</td>\n      <td>0</td>\n      <td>NaN</td>\n      <td>2022-02-22T12:11:00</td>\n      <td>None</td>\n      <td>0</td>\n      <td>None</td>\n      <td>None</td>\n      <td>None</td>\n      <td>None</td>\n      <td>...</td>\n      <td>Homicide Victims\\r\\nConway, South Carolina\\r\\n...</td>\n      <td>None</td>\n      <td>[columbia]</td>\n      <td>None</td>\n      <td>None</td>\n      <td>None</td>\n      <td>NaN</td>\n      <td>NaN</td>\n      <td>2023-01-16T00:13:21+00:00</td>\n      <td>https://api.fbi.gov/@wanted-person/c7acc640dab...</td>\n    </tr>\n    <tr>\n      <th>6</th>\n      <td>None</td>\n      <td>0</td>\n      <td>NaN</td>\n      <td>2020-08-04T14:04:00</td>\n      <td>None</td>\n      <td>0</td>\n      <td>None</td>\n      <td>None</td>\n      <td>None</td>\n      <td>None</td>\n      <td>...</td>\n      <td>Salt Lake City, Utah\\r\\nMay 30, 2020</td>\n      <td>None</td>\n      <td>[saltlakecity]</td>\n      <td>None</td>\n      <td>None</td>\n      <td>None</td>\n      <td>NaN</td>\n      <td>NaN</td>\n      <td>2023-01-16T00:13:20+00:00</td>\n      <td>https://api.fbi.gov/@wanted-person/90aa56f0240...</td>\n    </tr>\n    <tr>\n      <th>7</th>\n      <td>None</td>\n      <td>0</td>\n      <td>290.0</td>\n      <td>2020-09-29T07:47:00</td>\n      <td>None</td>\n      <td>0</td>\n      <td>Illinois</td>\n      <td>None</td>\n      <td>Male</td>\n      <td>white</td>\n      <td>...</td>\n      <td>Securities Fraud (One Count); Wire Fraud (Six ...</td>\n      <td>None</td>\n      <td>[lasvegas]</td>\n      <td>290 pounds</td>\n      <td>[October 4, 1969, October 4, 1966]</td>\n      <td>None</td>\n      <td>290.0</td>\n      <td>NaN</td>\n      <td>2023-01-16T00:13:19+00:00</td>\n      <td>https://api.fbi.gov/@wanted-person/fe16684709a...</td>\n    </tr>\n    <tr>\n      <th>8</th>\n      <td>None</td>\n      <td>0</td>\n      <td>160.0</td>\n      <td>2020-09-25T07:32:00</td>\n      <td>None</td>\n      <td>0</td>\n      <td>Mexico</td>\n      <td>None</td>\n      <td>Male</td>\n      <td>hispanic</td>\n      <td>...</td>\n      <td>Unlawful Flight to Avoid Prosecution - Murder</td>\n      <td>None</td>\n      <td>[sacramento]</td>\n      <td>160 pounds</td>\n      <td>[October 21, 1975]</td>\n      <td>[Farm Laborer]</td>\n      <td>160.0</td>\n      <td>NaN</td>\n      <td>2023-01-16T00:13:18+00:00</td>\n      <td>https://api.fbi.gov/@wanted-person/dfcf24ee89c...</td>\n    </tr>\n    <tr>\n      <th>9</th>\n      <td>None</td>\n      <td>0</td>\n      <td>NaN</td>\n      <td>2020-09-28T12:48:00</td>\n      <td>None</td>\n      <td>0</td>\n      <td>None</td>\n      <td>None</td>\n      <td>None</td>\n      <td>None</td>\n      <td>...</td>\n      <td>Homicide Victim\\r\\nWarm Springs Indian Reserva...</td>\n      <td>None</td>\n      <td>[portland]</td>\n      <td>None</td>\n      <td>None</td>\n      <td>None</td>\n      <td>NaN</td>\n      <td>NaN</td>\n      <td>2023-01-16T00:13:18+00:00</td>\n      <td>https://api.fbi.gov/@wanted-person/76ed29d2b65...</td>\n    </tr>\n    <tr>\n      <th>10</th>\n      <td>None</td>\n      <td>0</td>\n      <td>50.0</td>\n      <td>2021-11-09T07:35:00</td>\n      <td>None</td>\n      <td>0</td>\n      <td>None</td>\n      <td>None</td>\n      <td>Female</td>\n      <td>white</td>\n      <td>...</td>\n      <td>August 8, 2000\\r\\nBeckley, West Virginia</td>\n      <td>None</td>\n      <td>[pittsburgh]</td>\n      <td>50 pounds (at the time of her disappearance)</td>\n      <td>[December 22, 1989]</td>\n      <td>None</td>\n      <td>50.0</td>\n      <td>NaN</td>\n      <td>2023-01-16T00:13:17+00:00</td>\n      <td>https://api.fbi.gov/@wanted-person/9bcc9e5e443...</td>\n    </tr>\n    <tr>\n      <th>11</th>\n      <td>None</td>\n      <td>0</td>\n      <td>205.0</td>\n      <td>2019-10-31T11:23:00</td>\n      <td>None</td>\n      <td>0</td>\n      <td>None</td>\n      <td>None</td>\n      <td>Male</td>\n      <td>native</td>\n      <td>...</td>\n      <td>Grand Forks, North Dakota\\r\\nJuly 3, 2018</td>\n      <td>None</td>\n      <td>[minneapolis]</td>\n      <td>205 pounds</td>\n      <td>[November 7, 1979]</td>\n      <td>None</td>\n      <td>205.0</td>\n      <td>NaN</td>\n      <td>2023-01-16T00:13:17+00:00</td>\n      <td>https://api.fbi.gov/@wanted-person/c4fd39182b9...</td>\n    </tr>\n    <tr>\n      <th>12</th>\n      <td>None</td>\n      <td>0</td>\n      <td>NaN</td>\n      <td>2019-02-28T14:22:00</td>\n      <td>Approximately 17 to 23 years old</td>\n      <td>0</td>\n      <td>None</td>\n      <td>None</td>\n      <td>Male</td>\n      <td>hispanic</td>\n      <td>...</td>\n      <td>Needville, Texas\\r\\nDecember 17, 2000</td>\n      <td>None</td>\n      <td>None</td>\n      <td>None</td>\n      <td>None</td>\n      <td>None</td>\n      <td>NaN</td>\n      <td>23.0</td>\n      <td>2023-01-16T00:13:16+00:00</td>\n      <td>https://api.fbi.gov/@wanted-person/0de65261a2d...</td>\n    </tr>\n    <tr>\n      <th>13</th>\n      <td>None</td>\n      <td>0</td>\n      <td>150.0</td>\n      <td>2019-03-01T08:17:00</td>\n      <td>None</td>\n      <td>0</td>\n      <td>Bel Ombre, Mahe Island, Seychelles</td>\n      <td>None</td>\n      <td>Male</td>\n      <td>white</td>\n      <td>...</td>\n      <td>Unlawful Flight to Avoid Prosecution - Failure...</td>\n      <td>None</td>\n      <td>[portland]</td>\n      <td>150 pounds</td>\n      <td>[December 30, 1966]</td>\n      <td>[Waiter or Food Service Worker]</td>\n      <td>150.0</td>\n      <td>NaN</td>\n      <td>2023-01-16T00:13:16+00:00</td>\n      <td>https://api.fbi.gov/@wanted-person/08fffb803ba...</td>\n    </tr>\n    <tr>\n      <th>14</th>\n      <td>None</td>\n      <td>0</td>\n      <td>170.0</td>\n      <td>2011-03-25T14:40:00</td>\n      <td>15 to 30 years old</td>\n      <td>0</td>\n      <td>None</td>\n      <td>None</td>\n      <td>Female</td>\n      <td>white</td>\n      <td>...</td>\n      <td>Newport, Watts Township, Perry County, Pennsyl...</td>\n      <td>None</td>\n      <td>None</td>\n      <td>Approximately 170 pounds</td>\n      <td>None</td>\n      <td>None</td>\n      <td>170.0</td>\n      <td>30.0</td>\n      <td>2023-01-16T00:13:14+00:00</td>\n      <td>https://api.fbi.gov/@wanted-person/cb6907bf45a...</td>\n    </tr>\n    <tr>\n      <th>15</th>\n      <td>None</td>\n      <td>0</td>\n      <td>130.0</td>\n      <td>2021-02-05T08:51:00</td>\n      <td>None</td>\n      <td>0</td>\n      <td>None</td>\n      <td>None</td>\n      <td>Male</td>\n      <td>native</td>\n      <td>...</td>\n      <td>Homicide Victim\\r\\nNenahnezad, New Mexico\\r\\nJ...</td>\n      <td>None</td>\n      <td>[albuquerque]</td>\n      <td>130 pounds</td>\n      <td>[May 5, 1997]</td>\n      <td>None</td>\n      <td>130.0</td>\n      <td>NaN</td>\n      <td>2023-01-16T00:13:14+00:00</td>\n      <td>https://api.fbi.gov/@wanted-person/f042ad53ce1...</td>\n    </tr>\n    <tr>\n      <th>16</th>\n      <td>None</td>\n      <td>0</td>\n      <td>NaN</td>\n      <td>2021-10-12T07:56:00</td>\n      <td>None</td>\n      <td>0</td>\n      <td>None</td>\n      <td>None</td>\n      <td>None</td>\n      <td>None</td>\n      <td>...</td>\n      <td>Homicide Victim\\r\\nPortland, Oregon\\r\\nJune 11...</td>\n      <td>None</td>\n      <td>[portland]</td>\n      <td>None</td>\n      <td>None</td>\n      <td>None</td>\n      <td>NaN</td>\n      <td>NaN</td>\n      <td>2023-01-16T00:13:14+00:00</td>\n      <td>https://api.fbi.gov/@wanted-person/6aa0012ab5b...</td>\n    </tr>\n    <tr>\n      <th>17</th>\n      <td>None</td>\n      <td>0</td>\n      <td>176.0</td>\n      <td>2010-10-26T20:15:00</td>\n      <td>40 to 60 years old</td>\n      <td>0</td>\n      <td>None</td>\n      <td>None</td>\n      <td>Female</td>\n      <td>white</td>\n      <td>...</td>\n      <td>Collier County, Florida\\r\\nJune 3, 1978</td>\n      <td>None</td>\n      <td>None</td>\n      <td>Approximately 176 pounds</td>\n      <td>None</td>\n      <td>None</td>\n      <td>176.0</td>\n      <td>60.0</td>\n      <td>2023-01-16T00:13:13+00:00</td>\n      <td>https://api.fbi.gov/@wanted-person/f83bc2fd6b8...</td>\n    </tr>\n    <tr>\n      <th>18</th>\n      <td>None</td>\n      <td>0</td>\n      <td>120.0</td>\n      <td>2010-10-26T19:50:00</td>\n      <td>17 to 25 years old</td>\n      <td>0</td>\n      <td>None</td>\n      <td>None</td>\n      <td>Female</td>\n      <td>white</td>\n      <td>...</td>\n      <td>Frederick, Maryland\\r\\nJuly 31, 1991</td>\n      <td>None</td>\n      <td>None</td>\n      <td>110 to 120 pounds</td>\n      <td>None</td>\n      <td>None</td>\n      <td>110.0</td>\n      <td>25.0</td>\n      <td>2023-01-16T00:13:12+00:00</td>\n      <td>https://api.fbi.gov/@wanted-person/50cccd96911...</td>\n    </tr>\n    <tr>\n      <th>19</th>\n      <td>None</td>\n      <td>0</td>\n      <td>255.0</td>\n      <td>2017-03-30T07:01:00</td>\n      <td>35 - 50 years old</td>\n      <td>0</td>\n      <td>None</td>\n      <td>None</td>\n      <td>Male</td>\n      <td>white</td>\n      <td>...</td>\n      <td>Unidentified Male\\r\\nLake Barkley, Lyons Count...</td>\n      <td>None</td>\n      <td>None</td>\n      <td>235 - 255 pounds</td>\n      <td>None</td>\n      <td>None</td>\n      <td>235.0</td>\n      <td>50.0</td>\n      <td>2023-01-16T00:13:11+00:00</td>\n      <td>https://api.fbi.gov/@wanted-person/3171d5d219d...</td>\n    </tr>\n  </tbody>\n</table>\n<p>20 rows × 53 columns</p>\n</div>"
     },
     "execution_count": 306,
     "metadata": {},
     "output_type": "execute_result"
    }
   ],
   "source": [
    "fugitive"
   ],
   "metadata": {
    "collapsed": false
   }
  },
  {
   "cell_type": "code",
   "execution_count": 15,
   "outputs": [
    {
     "data": {
      "text/plain": "0     [ViCAP Unidentified Persons]\n1     [ViCAP Unidentified Persons]\n2     [ViCAP Unidentified Persons]\n3     [ViCAP Unidentified Persons]\n4          [ViCAP Missing Persons]\n5          [ViCAP Missing Persons]\n6          [ViCAP Missing Persons]\n7          [ViCAP Missing Persons]\n8          [ViCAP Missing Persons]\n9          [ViCAP Missing Persons]\n10         [ViCAP Missing Persons]\n11         [ViCAP Missing Persons]\n12         [ViCAP Missing Persons]\n13         [ViCAP Missing Persons]\n14         [ViCAP Missing Persons]\n15         [ViCAP Missing Persons]\n16         [ViCAP Missing Persons]\n17         [ViCAP Missing Persons]\n18         [ViCAP Missing Persons]\n19         [ViCAP Missing Persons]\nName: subjects, dtype: object"
     },
     "execution_count": 15,
     "metadata": {},
     "output_type": "execute_result"
    }
   ],
   "source": [
    "fugitive.subjects"
   ],
   "metadata": {
    "collapsed": false
   }
  },
  {
   "cell_type": "code",
   "execution_count": 29,
   "outputs": [
    {
     "data": {
      "text/plain": "['US-PA', 'US-WA']"
     },
     "execution_count": 29,
     "metadata": {},
     "output_type": "execute_result"
    }
   ],
   "source": [
    "fugitive.possible_states[6]"
   ],
   "metadata": {
    "collapsed": false
   }
  },
  {
   "cell_type": "code",
   "execution_count": 30,
   "outputs": [],
   "source": [
    "states = []\n",
    "for state in fugitive.possible_states[6]:\n",
    "    states.append(state.replace(\"US-\", \"\"))"
   ],
   "metadata": {
    "collapsed": false
   }
  },
  {
   "cell_type": "code",
   "execution_count": null,
   "outputs": [],
   "source": [],
   "metadata": {
    "collapsed": false
   }
  },
  {
   "cell_type": "code",
   "execution_count": 31,
   "outputs": [
    {
     "data": {
      "text/plain": "['PA', 'WA']"
     },
     "execution_count": 31,
     "metadata": {},
     "output_type": "execute_result"
    }
   ],
   "source": [
    "states"
   ],
   "metadata": {
    "collapsed": false
   }
  },
  {
   "cell_type": "code",
   "execution_count": 38,
   "outputs": [
    {
     "data": {
      "text/plain": "0                                                  None\n1                                                  None\n2                                                  None\n3                                                  None\n4                                                  None\n5                   SHOULD BE CONSIDERED AN ESCAPE RISK\n6     SHOULD BE CONSIDERED AN INTERNATIONAL FLIGHT RISK\n7     SHOULD BE CONSIDERED AN INTERNATIONAL FLIGHT RISK\n8     SHOULD BE CONSIDERED AN INTERNATIONAL FLIGHT RISK\n9     SHOULD BE CONSIDERED AN INTERNATIONAL FLIGHT RISK\n10    SHOULD BE CONSIDERED AN INTERNATIONAL FLIGHT RISK\n11    SHOULD BE CONSIDERED AN INTERNATIONAL FLIGHT RISK\n12                                                 None\n13                                                 None\n14    SHOULD BE CONSIDERED AN INTERNATIONAL FLIGHT RISK\n15                                                 None\n16                                                 None\n17                                                 None\n18                                                 None\n19                                                 None\nName: warning_message, dtype: object"
     },
     "execution_count": 38,
     "metadata": {},
     "output_type": "execute_result"
    }
   ],
   "source": [
    "fugitive.warning_message"
   ],
   "metadata": {
    "collapsed": false
   }
  },
  {
   "cell_type": "markdown",
   "source": [],
   "metadata": {
    "collapsed": false
   }
  },
  {
   "cell_type": "code",
   "execution_count": 42,
   "outputs": [
    {
     "data": {
      "text/plain": "'should be considered an international flight risk'"
     },
     "execution_count": 42,
     "metadata": {},
     "output_type": "execute_result"
    }
   ],
   "source": [
    "fugitive.warning_message[6].lower()"
   ],
   "metadata": {
    "collapsed": false
   }
  },
  {
   "cell_type": "code",
   "execution_count": 44,
   "outputs": [
    {
     "data": {
      "text/plain": "0                        Wang, Lei\n1                     Li, Shaoming\n2                        Lin, Yong\n3                         Ye, Jian\n4                    Wang, Hongwei\n5        CHRISTOPHER ROBERT METSOS\n6                       LI FANGWEI\n7                      NADER SAEDI\n8                    HAMID FIROOZI\n9                     AMIN SHOKOHI\n10                    SINA KEISSAR\n11    MOHAMMAD SADEGH AHMADZADEGAN\n12                FARHAN UL ARSHAD\n13                     AHMAD FATHI\n14                OMID GHAFFARINIA\n15                 NOOR AZIZ UDDIN\n16                       WEN XINYU\n17                    HUANG ZHENYU\n18                       WANG DONG\n19                      GU CHUNHUI\nName: title, dtype: object"
     },
     "execution_count": 44,
     "metadata": {},
     "output_type": "execute_result"
    }
   ],
   "source": [
    "fugitive.title"
   ],
   "metadata": {
    "collapsed": false
   }
  },
  {
   "cell_type": "code",
   "execution_count": 51,
   "outputs": [
    {
     "name": "stdout",
     "output_type": "stream",
     "text": [
      "wanghongwei\n"
     ]
    }
   ],
   "source": [
    "print((''.join([c for c in fugitive.title[4] if c.isalpha()])).lower())"
   ],
   "metadata": {
    "collapsed": false
   }
  },
  {
   "cell_type": "code",
   "execution_count": 56,
   "outputs": [
    {
     "data": {
      "text/plain": "0      NaN\n1      NaN\n2      NaN\n3      NaN\n4      NaN\n5      NaN\n6      NaN\n7      NaN\n8      NaN\n9      NaN\n10     NaN\n11     NaN\n12     NaN\n13     NaN\n14    26.0\n15     NaN\n16     NaN\n17     NaN\n18     NaN\n19     NaN\nName: age_min, dtype: float64"
     },
     "execution_count": 56,
     "metadata": {},
     "output_type": "execute_result"
    }
   ],
   "source": [
    "fugitive.age_min"
   ],
   "metadata": {
    "collapsed": false
   }
  },
  {
   "cell_type": "code",
   "execution_count": 57,
   "outputs": [
    {
     "data": {
      "text/plain": "26.0"
     },
     "execution_count": 57,
     "metadata": {},
     "output_type": "execute_result"
    }
   ],
   "source": [
    "26.0"
   ],
   "metadata": {
    "collapsed": false
   }
  },
  {
   "cell_type": "code",
   "execution_count": 75,
   "outputs": [
    {
     "data": {
      "text/plain": "0                                                  None\n1                                                  None\n2     The FBI is offering a reward of up to $10,000 ...\n3                                                  None\n4                                                  None\n5                                                  None\n6                                                  None\n7     The FBI is offering a reward of up to $10,000 ...\n8     The United States Government is offering a rew...\n9     The FBI is offering a reward of up to $25,000 ...\n10    The Rewards for Justice Program, United States...\n11    The Rewards For Justice Program, United States...\n12    The FBI is offering a reward of up to $20,000 ...\n13                                                 None\n14                                                 None\n15    The FBI is offering a reward of up to $10,000 ...\n16                                                 None\n17                                                 None\n18    The FBI is offering a reward of up to $5,000 f...\n19    The FBI is offering a reward of up to $25,000 ...\nName: reward_text, dtype: object"
     },
     "execution_count": 75,
     "metadata": {},
     "output_type": "execute_result"
    }
   ],
   "source": [
    "fugitive.reward_text"
   ],
   "metadata": {
    "collapsed": false
   }
  },
  {
   "cell_type": "code",
   "execution_count": 84,
   "outputs": [],
   "source": [
    "reward = re.findall(r'(?:[\\£\\$\\€]{1}[,\\d]+.?\\d*)', fugitive.reward_text[9])"
   ],
   "metadata": {
    "collapsed": false
   }
  },
  {
   "cell_type": "code",
   "execution_count": 85,
   "outputs": [
    {
     "data": {
      "text/plain": "'$25,000'"
     },
     "execution_count": 85,
     "metadata": {},
     "output_type": "execute_result"
    }
   ],
   "source": [
    "reward[0].strip(\" \")"
   ],
   "metadata": {
    "collapsed": false
   }
  },
  {
   "cell_type": "code",
   "execution_count": 131,
   "outputs": [],
   "source": [
    "reward2 = fugitive.reward_text[8].split(\" \")"
   ],
   "metadata": {
    "collapsed": false
   }
  },
  {
   "cell_type": "code",
   "execution_count": 132,
   "outputs": [
    {
     "data": {
      "text/plain": "['The',\n 'United',\n 'States',\n 'Government',\n 'is',\n 'offering',\n 'a',\n 'reward',\n 'of',\n 'up',\n 'to',\n '$1',\n 'million',\n 'dollars',\n 'for',\n 'information',\n 'directly',\n 'leading',\n 'to',\n 'the',\n 'arrest',\n 'or',\n 'prosecution',\n 'of',\n 'those',\n 'responsible',\n 'for',\n 'the',\n 'kidnapping',\n 'and',\n 'captivity',\n 'of',\n 'Caitlan',\n 'Coleman',\n 'and',\n 'her',\n 'family.']"
     },
     "execution_count": 132,
     "metadata": {},
     "output_type": "execute_result"
    }
   ],
   "source": [
    "reward2"
   ],
   "metadata": {
    "collapsed": false
   }
  },
  {
   "cell_type": "code",
   "execution_count": 156,
   "outputs": [
    {
     "name": "stdout",
     "output_type": "stream",
     "text": [
      "<class 'numpy.int32'>\n"
     ]
    }
   ],
   "source": [
    "def get_reward(self):\n",
    "    reward = self.reward_text[8].split(\" \")\n",
    "    for i, s in enumerate(reward):\n",
    "        value = re.findall(r'(?:[\\£\\$\\€][,\\d]+.?\\d*)', s)\n",
    "        output = re.sub(r'[$,]', '', \"\".join(value))\n",
    "        if output.__len__() < 2:\n",
    "            if reward[i + 1] == \"million\":\n",
    "                return int(output) * 1000000\n",
    "        else:\n",
    "            return output\n",
    "\n",
    "val = get_reward(fugitive)\n",
    "print(type(np.int32(val)))"
   ],
   "metadata": {
    "collapsed": false
   }
  },
  {
   "cell_type": "code",
   "execution_count": null,
   "outputs": [],
   "source": [],
   "metadata": {
    "collapsed": false
   }
  }
 ],
 "metadata": {
  "kernelspec": {
   "display_name": "Python 3",
   "language": "python",
   "name": "python3"
  },
  "language_info": {
   "codemirror_mode": {
    "name": "ipython",
    "version": 2
   },
   "file_extension": ".py",
   "mimetype": "text/x-python",
   "name": "python",
   "nbconvert_exporter": "python",
   "pygments_lexer": "ipython2",
   "version": "2.7.6"
  }
 },
 "nbformat": 4,
 "nbformat_minor": 0
}
